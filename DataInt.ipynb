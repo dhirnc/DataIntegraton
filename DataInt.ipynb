{
 "cells": [
  {
   "cell_type": "markdown",
   "metadata": {},
   "source": [
    "# Data Integration and Reshaping\n",
    "\n",
    "Environment: Python 3.6.5 and Jupyter notebook\n",
    "Libraries used: \n",
    "* pandas - for dataframe manipulation \n",
    "* shapefile - to read shapefiles \n",
    "* geopandas - to read and manipulate shapefile for co-ordinate reference system \n",
    "* matplotlib (for plotting)\n",
    "* math - for mathematical functions\n",
    "* Sklearn libraries - for data transformation and fitting linear model\n",
    "\n",
    "## 1. Introduction\n",
    "This analysis deals with Data Integration and Reshaping problems for Property data. \n",
    "    \n",
    "    Task 1:The goal of the analysis is to find several relavant commute details about properties using GTFS data provided. \n",
    "    \n",
    "    Task 2: The goal of the analysis is to study the effect of different normalization/transformation methods (i.e.standardization, min-max normalization, log, power, and root transformation) on Rooms,crime_C_average, travel_min_to_CBD, and property_age attributes. Also need to observe and explain their effect assuming that we want to build a linear model on price using these attributes as the predictors of the linear model and recommend which one(s) do you think would work better on this data. When building the linear model, the same normalization/transformation method can be applied to each of these attributes.\n"
   ]
  },
  {
   "cell_type": "markdown",
   "metadata": {},
   "source": [
    "### Task 1: Data Integration "
   ]
  },
  {
   "cell_type": "markdown",
   "metadata": {},
   "source": [
    "Loading Libraries and reading properties datafile."
   ]
  },
  {
   "cell_type": "code",
   "execution_count": 2,
   "metadata": {},
   "outputs": [],
   "source": [
    "# importing libraries\n",
    "import pandas as pd\n",
    "import shapefile\n",
    "import geopandas as gp\n",
    "from shapely.geometry import Point\n",
    "from math import *\n",
    "from sklearn.linear_model import LinearRegression\n",
    "import sklearn\n",
    "from sklearn.metrics import mean_squared_error, r2_score\n",
    "from sklearn.model_selection import train_test_split\n",
    "from sklearn import preprocessing\n",
    "\n",
    "%matplotlib inline"
   ]
  },
  {
   "cell_type": "code",
   "execution_count": 3,
   "metadata": {},
   "outputs": [],
   "source": [
    "# Read file\n",
    "data = pd.read_csv(\"data.csv\")"
   ]
  },
  {
   "cell_type": "code",
   "execution_count": 4,
   "metadata": {},
   "outputs": [
    {
     "data": {
      "text/html": [
       "<div>\n",
       "<style scoped>\n",
       "    .dataframe tbody tr th:only-of-type {\n",
       "        vertical-align: middle;\n",
       "    }\n",
       "\n",
       "    .dataframe tbody tr th {\n",
       "        vertical-align: top;\n",
       "    }\n",
       "\n",
       "    .dataframe thead th {\n",
       "        text-align: right;\n",
       "    }\n",
       "</style>\n",
       "<table border=\"1\" class=\"dataframe\">\n",
       "  <thead>\n",
       "    <tr style=\"text-align: right;\">\n",
       "      <th></th>\n",
       "      <th>ID</th>\n",
       "      <th>Address</th>\n",
       "      <th>Rooms</th>\n",
       "      <th>Type</th>\n",
       "      <th>Price</th>\n",
       "      <th>Date</th>\n",
       "      <th>Bathroom</th>\n",
       "      <th>Car</th>\n",
       "      <th>Landsize</th>\n",
       "      <th>Age</th>\n",
       "      <th>Lattitude</th>\n",
       "      <th>Longtitude</th>\n",
       "    </tr>\n",
       "  </thead>\n",
       "  <tbody>\n",
       "    <tr>\n",
       "      <th>0</th>\n",
       "      <td>ID947738002</td>\n",
       "      <td>30 Abbott St</td>\n",
       "      <td>7</td>\n",
       "      <td>h</td>\n",
       "      <td>1350000.0</td>\n",
       "      <td>3/12/2016</td>\n",
       "      <td>2.0</td>\n",
       "      <td>0.0</td>\n",
       "      <td>942.0</td>\n",
       "      <td>59.0</td>\n",
       "      <td>-37.79230</td>\n",
       "      <td>145.10290</td>\n",
       "    </tr>\n",
       "    <tr>\n",
       "      <th>1</th>\n",
       "      <td>ID335157731</td>\n",
       "      <td>35 Douglas St</td>\n",
       "      <td>3</td>\n",
       "      <td>h</td>\n",
       "      <td>1365000.0</td>\n",
       "      <td>10/09/2016</td>\n",
       "      <td>1.0</td>\n",
       "      <td>1.0</td>\n",
       "      <td>792.0</td>\n",
       "      <td>69.0</td>\n",
       "      <td>-37.86400</td>\n",
       "      <td>145.09720</td>\n",
       "    </tr>\n",
       "    <tr>\n",
       "      <th>2</th>\n",
       "      <td>ID422740389</td>\n",
       "      <td>22 Baldwin St</td>\n",
       "      <td>2</td>\n",
       "      <td>h</td>\n",
       "      <td>1859000.0</td>\n",
       "      <td>6/05/2017</td>\n",
       "      <td>2.0</td>\n",
       "      <td>3.0</td>\n",
       "      <td>311.0</td>\n",
       "      <td>49.0</td>\n",
       "      <td>-37.85450</td>\n",
       "      <td>145.02190</td>\n",
       "    </tr>\n",
       "    <tr>\n",
       "      <th>3</th>\n",
       "      <td>ID801151886</td>\n",
       "      <td>6 Wicklow St</td>\n",
       "      <td>3</td>\n",
       "      <td>h</td>\n",
       "      <td>800000.0</td>\n",
       "      <td>13/05/2017</td>\n",
       "      <td>1.0</td>\n",
       "      <td>2.0</td>\n",
       "      <td>506.0</td>\n",
       "      <td>49.0</td>\n",
       "      <td>-37.71870</td>\n",
       "      <td>144.94330</td>\n",
       "    </tr>\n",
       "    <tr>\n",
       "      <th>4</th>\n",
       "      <td>ID953676311</td>\n",
       "      <td>1/108 Truganini Rd</td>\n",
       "      <td>4</td>\n",
       "      <td>t</td>\n",
       "      <td>1250000.0</td>\n",
       "      <td>8/07/2017</td>\n",
       "      <td>3.0</td>\n",
       "      <td>2.0</td>\n",
       "      <td>326.0</td>\n",
       "      <td>14.0</td>\n",
       "      <td>-37.89334</td>\n",
       "      <td>145.05463</td>\n",
       "    </tr>\n",
       "  </tbody>\n",
       "</table>\n",
       "</div>"
      ],
      "text/plain": [
       "            ID             Address  Rooms Type      Price        Date  \\\n",
       "0  ID947738002        30 Abbott St      7    h  1350000.0   3/12/2016   \n",
       "1  ID335157731       35 Douglas St      3    h  1365000.0  10/09/2016   \n",
       "2  ID422740389       22 Baldwin St      2    h  1859000.0   6/05/2017   \n",
       "3  ID801151886        6 Wicklow St      3    h   800000.0  13/05/2017   \n",
       "4  ID953676311  1/108 Truganini Rd      4    t  1250000.0   8/07/2017   \n",
       "\n",
       "   Bathroom  Car  Landsize   Age  Lattitude  Longtitude  \n",
       "0       2.0  0.0     942.0  59.0  -37.79230   145.10290  \n",
       "1       1.0  1.0     792.0  69.0  -37.86400   145.09720  \n",
       "2       2.0  3.0     311.0  49.0  -37.85450   145.02190  \n",
       "3       1.0  2.0     506.0  49.0  -37.71870   144.94330  \n",
       "4       3.0  2.0     326.0  14.0  -37.89334   145.05463  "
      ]
     },
     "execution_count": 4,
     "metadata": {},
     "output_type": "execute_result"
    }
   ],
   "source": [
    "data.head()"
   ]
  },
  {
   "cell_type": "markdown",
   "metadata": {},
   "source": [
    "Finding duplicates and removing from data"
   ]
  },
  {
   "cell_type": "code",
   "execution_count": 5,
   "metadata": {},
   "outputs": [
    {
     "name": "stdout",
     "output_type": "stream",
     "text": [
      "Number of duplicate entries:  45\n"
     ]
    }
   ],
   "source": [
    "# Finding number of duplicates\n",
    "print(\"Number of duplicate entries: \",len(data[data.duplicated(keep='first')]))"
   ]
  },
  {
   "cell_type": "code",
   "execution_count": 6,
   "metadata": {},
   "outputs": [],
   "source": [
    "# Dropping duplicate Values\n",
    "data = data.drop_duplicates(keep='first')\n",
    "data = data.reset_index()"
   ]
  },
  {
   "cell_type": "markdown",
   "metadata": {},
   "source": [
    "Finding valaues for various fields as per specification"
   ]
  },
  {
   "cell_type": "markdown",
   "metadata": {},
   "source": [
    "### Suburb"
   ]
  },
  {
   "cell_type": "markdown",
   "metadata": {},
   "source": [
    "Creating new column by converting lat,long information into POINT format to compare with Shape file"
   ]
  },
  {
   "cell_type": "code",
   "execution_count": 7,
   "metadata": {},
   "outputs": [
    {
     "data": {
      "text/html": [
       "<div>\n",
       "<style scoped>\n",
       "    .dataframe tbody tr th:only-of-type {\n",
       "        vertical-align: middle;\n",
       "    }\n",
       "\n",
       "    .dataframe tbody tr th {\n",
       "        vertical-align: top;\n",
       "    }\n",
       "\n",
       "    .dataframe thead th {\n",
       "        text-align: right;\n",
       "    }\n",
       "</style>\n",
       "<table border=\"1\" class=\"dataframe\">\n",
       "  <thead>\n",
       "    <tr style=\"text-align: right;\">\n",
       "      <th></th>\n",
       "      <th>index</th>\n",
       "      <th>ID</th>\n",
       "      <th>Address</th>\n",
       "      <th>Rooms</th>\n",
       "      <th>Type</th>\n",
       "      <th>Price</th>\n",
       "      <th>Date</th>\n",
       "      <th>Bathroom</th>\n",
       "      <th>Car</th>\n",
       "      <th>Landsize</th>\n",
       "      <th>Age</th>\n",
       "      <th>Lattitude</th>\n",
       "      <th>Longtitude</th>\n",
       "      <th>point</th>\n",
       "    </tr>\n",
       "  </thead>\n",
       "  <tbody>\n",
       "    <tr>\n",
       "      <th>0</th>\n",
       "      <td>0</td>\n",
       "      <td>ID947738002</td>\n",
       "      <td>30 Abbott St</td>\n",
       "      <td>7</td>\n",
       "      <td>h</td>\n",
       "      <td>1350000.0</td>\n",
       "      <td>3/12/2016</td>\n",
       "      <td>2.0</td>\n",
       "      <td>0.0</td>\n",
       "      <td>942.0</td>\n",
       "      <td>59.0</td>\n",
       "      <td>-37.79230</td>\n",
       "      <td>145.10290</td>\n",
       "      <td>POINT (145.1029 -37.7923)</td>\n",
       "    </tr>\n",
       "    <tr>\n",
       "      <th>1</th>\n",
       "      <td>1</td>\n",
       "      <td>ID335157731</td>\n",
       "      <td>35 Douglas St</td>\n",
       "      <td>3</td>\n",
       "      <td>h</td>\n",
       "      <td>1365000.0</td>\n",
       "      <td>10/09/2016</td>\n",
       "      <td>1.0</td>\n",
       "      <td>1.0</td>\n",
       "      <td>792.0</td>\n",
       "      <td>69.0</td>\n",
       "      <td>-37.86400</td>\n",
       "      <td>145.09720</td>\n",
       "      <td>POINT (145.0972 -37.864)</td>\n",
       "    </tr>\n",
       "    <tr>\n",
       "      <th>2</th>\n",
       "      <td>2</td>\n",
       "      <td>ID422740389</td>\n",
       "      <td>22 Baldwin St</td>\n",
       "      <td>2</td>\n",
       "      <td>h</td>\n",
       "      <td>1859000.0</td>\n",
       "      <td>6/05/2017</td>\n",
       "      <td>2.0</td>\n",
       "      <td>3.0</td>\n",
       "      <td>311.0</td>\n",
       "      <td>49.0</td>\n",
       "      <td>-37.85450</td>\n",
       "      <td>145.02190</td>\n",
       "      <td>POINT (145.0219 -37.8545)</td>\n",
       "    </tr>\n",
       "    <tr>\n",
       "      <th>3</th>\n",
       "      <td>3</td>\n",
       "      <td>ID801151886</td>\n",
       "      <td>6 Wicklow St</td>\n",
       "      <td>3</td>\n",
       "      <td>h</td>\n",
       "      <td>800000.0</td>\n",
       "      <td>13/05/2017</td>\n",
       "      <td>1.0</td>\n",
       "      <td>2.0</td>\n",
       "      <td>506.0</td>\n",
       "      <td>49.0</td>\n",
       "      <td>-37.71870</td>\n",
       "      <td>144.94330</td>\n",
       "      <td>POINT (144.9433 -37.7187)</td>\n",
       "    </tr>\n",
       "    <tr>\n",
       "      <th>4</th>\n",
       "      <td>4</td>\n",
       "      <td>ID953676311</td>\n",
       "      <td>1/108 Truganini Rd</td>\n",
       "      <td>4</td>\n",
       "      <td>t</td>\n",
       "      <td>1250000.0</td>\n",
       "      <td>8/07/2017</td>\n",
       "      <td>3.0</td>\n",
       "      <td>2.0</td>\n",
       "      <td>326.0</td>\n",
       "      <td>14.0</td>\n",
       "      <td>-37.89334</td>\n",
       "      <td>145.05463</td>\n",
       "      <td>POINT (145.05463 -37.89334)</td>\n",
       "    </tr>\n",
       "  </tbody>\n",
       "</table>\n",
       "</div>"
      ],
      "text/plain": [
       "   index           ID             Address  Rooms Type      Price        Date  \\\n",
       "0      0  ID947738002        30 Abbott St      7    h  1350000.0   3/12/2016   \n",
       "1      1  ID335157731       35 Douglas St      3    h  1365000.0  10/09/2016   \n",
       "2      2  ID422740389       22 Baldwin St      2    h  1859000.0   6/05/2017   \n",
       "3      3  ID801151886        6 Wicklow St      3    h   800000.0  13/05/2017   \n",
       "4      4  ID953676311  1/108 Truganini Rd      4    t  1250000.0   8/07/2017   \n",
       "\n",
       "   Bathroom  Car  Landsize   Age  Lattitude  Longtitude  \\\n",
       "0       2.0  0.0     942.0  59.0  -37.79230   145.10290   \n",
       "1       1.0  1.0     792.0  69.0  -37.86400   145.09720   \n",
       "2       2.0  3.0     311.0  49.0  -37.85450   145.02190   \n",
       "3       1.0  2.0     506.0  49.0  -37.71870   144.94330   \n",
       "4       3.0  2.0     326.0  14.0  -37.89334   145.05463   \n",
       "\n",
       "                         point  \n",
       "0    POINT (145.1029 -37.7923)  \n",
       "1     POINT (145.0972 -37.864)  \n",
       "2    POINT (145.0219 -37.8545)  \n",
       "3    POINT (144.9433 -37.7187)  \n",
       "4  POINT (145.05463 -37.89334)  "
      ]
     },
     "execution_count": 7,
     "metadata": {},
     "output_type": "execute_result"
    }
   ],
   "source": [
    "# Creating point column\n",
    "data['point'] = data[['Longtitude','Lattitude']].apply(lambda x: Point(x['Longtitude'],x['Lattitude']), axis=1)\n",
    "data.head()"
   ]
  },
  {
   "cell_type": "markdown",
   "metadata": {},
   "source": [
    "Reading Victoria's localities shapefile, that defines the boundries for different suburbs. GeoJSON library is used here."
   ]
  },
  {
   "cell_type": "code",
   "execution_count": 8,
   "metadata": {},
   "outputs": [
    {
     "data": {
      "text/html": [
       "<div>\n",
       "<style scoped>\n",
       "    .dataframe tbody tr th:only-of-type {\n",
       "        vertical-align: middle;\n",
       "    }\n",
       "\n",
       "    .dataframe tbody tr th {\n",
       "        vertical-align: top;\n",
       "    }\n",
       "\n",
       "    .dataframe thead th {\n",
       "        text-align: right;\n",
       "    }\n",
       "</style>\n",
       "<table border=\"1\" class=\"dataframe\">\n",
       "  <thead>\n",
       "    <tr style=\"text-align: right;\">\n",
       "      <th></th>\n",
       "      <th>LC_PLY_PID</th>\n",
       "      <th>DT_CREATE</th>\n",
       "      <th>DT_RETIRE</th>\n",
       "      <th>LOC_PID</th>\n",
       "      <th>VIC_LOCALI</th>\n",
       "      <th>VIC_LOCA_1</th>\n",
       "      <th>VIC_LOCA_2</th>\n",
       "      <th>VIC_LOCA_3</th>\n",
       "      <th>VIC_LOCA_4</th>\n",
       "      <th>VIC_LOCA_5</th>\n",
       "      <th>VIC_LOCA_6</th>\n",
       "      <th>VIC_LOCA_7</th>\n",
       "      <th>geometry</th>\n",
       "    </tr>\n",
       "  </thead>\n",
       "  <tbody>\n",
       "    <tr>\n",
       "      <th>0</th>\n",
       "      <td>6670</td>\n",
       "      <td>2011-08-31</td>\n",
       "      <td>None</td>\n",
       "      <td>VIC2615</td>\n",
       "      <td>2012-04-27</td>\n",
       "      <td>None</td>\n",
       "      <td>UNDERBOOL</td>\n",
       "      <td>None</td>\n",
       "      <td>None</td>\n",
       "      <td>G</td>\n",
       "      <td>None</td>\n",
       "      <td>2</td>\n",
       "      <td>POLYGON ((141.74552399 -35.07228701, 141.74552...</td>\n",
       "    </tr>\n",
       "    <tr>\n",
       "      <th>1</th>\n",
       "      <td>6671</td>\n",
       "      <td>2011-08-31</td>\n",
       "      <td>None</td>\n",
       "      <td>VIC1986</td>\n",
       "      <td>2012-04-27</td>\n",
       "      <td>None</td>\n",
       "      <td>NURRAN</td>\n",
       "      <td>None</td>\n",
       "      <td>None</td>\n",
       "      <td>G</td>\n",
       "      <td>None</td>\n",
       "      <td>2</td>\n",
       "      <td>POLYGON ((148.668767 -37.39571245, 148.6687620...</td>\n",
       "    </tr>\n",
       "    <tr>\n",
       "      <th>2</th>\n",
       "      <td>6672</td>\n",
       "      <td>2011-08-31</td>\n",
       "      <td>None</td>\n",
       "      <td>VIC2862</td>\n",
       "      <td>2012-04-27</td>\n",
       "      <td>None</td>\n",
       "      <td>WOORNDOO</td>\n",
       "      <td>None</td>\n",
       "      <td>None</td>\n",
       "      <td>G</td>\n",
       "      <td>None</td>\n",
       "      <td>2</td>\n",
       "      <td>POLYGON ((142.92287999 -37.97885997, 142.90449...</td>\n",
       "    </tr>\n",
       "    <tr>\n",
       "      <th>3</th>\n",
       "      <td>6673</td>\n",
       "      <td>2011-08-31</td>\n",
       "      <td>None</td>\n",
       "      <td>VIC734</td>\n",
       "      <td>2017-08-09</td>\n",
       "      <td>None</td>\n",
       "      <td>DEPTFORD</td>\n",
       "      <td>None</td>\n",
       "      <td>None</td>\n",
       "      <td>G</td>\n",
       "      <td>None</td>\n",
       "      <td>2</td>\n",
       "      <td>POLYGON ((147.82335712 -37.66000897, 147.82312...</td>\n",
       "    </tr>\n",
       "    <tr>\n",
       "      <th>4</th>\n",
       "      <td>6674</td>\n",
       "      <td>2011-08-31</td>\n",
       "      <td>None</td>\n",
       "      <td>VIC2900</td>\n",
       "      <td>2012-04-27</td>\n",
       "      <td>None</td>\n",
       "      <td>YANAC</td>\n",
       "      <td>None</td>\n",
       "      <td>None</td>\n",
       "      <td>G</td>\n",
       "      <td>None</td>\n",
       "      <td>2</td>\n",
       "      <td>POLYGON ((141.279783 -35.99858911, 141.2798853...</td>\n",
       "    </tr>\n",
       "  </tbody>\n",
       "</table>\n",
       "</div>"
      ],
      "text/plain": [
       "  LC_PLY_PID   DT_CREATE DT_RETIRE  LOC_PID  VIC_LOCALI VIC_LOCA_1 VIC_LOCA_2  \\\n",
       "0       6670  2011-08-31      None  VIC2615  2012-04-27       None  UNDERBOOL   \n",
       "1       6671  2011-08-31      None  VIC1986  2012-04-27       None     NURRAN   \n",
       "2       6672  2011-08-31      None  VIC2862  2012-04-27       None   WOORNDOO   \n",
       "3       6673  2011-08-31      None   VIC734  2017-08-09       None   DEPTFORD   \n",
       "4       6674  2011-08-31      None  VIC2900  2012-04-27       None      YANAC   \n",
       "\n",
       "  VIC_LOCA_3 VIC_LOCA_4 VIC_LOCA_5 VIC_LOCA_6 VIC_LOCA_7  \\\n",
       "0       None       None          G       None          2   \n",
       "1       None       None          G       None          2   \n",
       "2       None       None          G       None          2   \n",
       "3       None       None          G       None          2   \n",
       "4       None       None          G       None          2   \n",
       "\n",
       "                                            geometry  \n",
       "0  POLYGON ((141.74552399 -35.07228701, 141.74552...  \n",
       "1  POLYGON ((148.668767 -37.39571245, 148.6687620...  \n",
       "2  POLYGON ((142.92287999 -37.97885997, 142.90449...  \n",
       "3  POLYGON ((147.82335712 -37.66000897, 147.82312...  \n",
       "4  POLYGON ((141.279783 -35.99858911, 141.2798853...  "
      ]
     },
     "execution_count": 8,
     "metadata": {},
     "output_type": "execute_result"
    }
   ],
   "source": [
    "# reading shapefile\n",
    "sfdf = gp.read_file(\"VIC_LOCALITY_POLYGON_shp.shp\")\n",
    "sfdf.head()"
   ]
  },
  {
   "cell_type": "markdown",
   "metadata": {},
   "source": [
    "Finding suburbs from shapefile by doing a spatial join provided by geojson library.\n",
    "* set the data file's Coordinate Reference System (CRS) to be same as the shapefile\n",
    "* sjoin checks property's point lies in which suburb polygon and left joins it to the main dataframe"
   ]
  },
  {
   "cell_type": "code",
   "execution_count": 9,
   "metadata": {},
   "outputs": [],
   "source": [
    "data = gp.GeoDataFrame(data, geometry='point')\n",
    "data.crs = sfdf.crs\n",
    "\n",
    "data = gp.sjoin(data, sfdf[['geometry','VIC_LOCA_2']], how='left')\n",
    "\n",
    "#merged = PointsGeodataframe.merge(PolygonsGeodataframe, left_on='iso_alpha2', right_on='ISO2', how='left')\n",
    "data = pd.DataFrame(data)\n",
    "data.rename(columns = {'VIC_LOCA_2':'Suburb'},inplace = True)\n",
    "data.drop(columns=['point','index_right'], axis=1, inplace=True)"
   ]
  },
  {
   "cell_type": "code",
   "execution_count": 10,
   "metadata": {
    "scrolled": true
   },
   "outputs": [
    {
     "data": {
      "text/html": [
       "<div>\n",
       "<style scoped>\n",
       "    .dataframe tbody tr th:only-of-type {\n",
       "        vertical-align: middle;\n",
       "    }\n",
       "\n",
       "    .dataframe tbody tr th {\n",
       "        vertical-align: top;\n",
       "    }\n",
       "\n",
       "    .dataframe thead th {\n",
       "        text-align: right;\n",
       "    }\n",
       "</style>\n",
       "<table border=\"1\" class=\"dataframe\">\n",
       "  <thead>\n",
       "    <tr style=\"text-align: right;\">\n",
       "      <th></th>\n",
       "      <th>index</th>\n",
       "      <th>ID</th>\n",
       "      <th>Address</th>\n",
       "      <th>Rooms</th>\n",
       "      <th>Type</th>\n",
       "      <th>Price</th>\n",
       "      <th>Date</th>\n",
       "      <th>Bathroom</th>\n",
       "      <th>Car</th>\n",
       "      <th>Landsize</th>\n",
       "      <th>Age</th>\n",
       "      <th>Lattitude</th>\n",
       "      <th>Longtitude</th>\n",
       "      <th>Suburb</th>\n",
       "    </tr>\n",
       "  </thead>\n",
       "  <tbody>\n",
       "    <tr>\n",
       "      <th>0</th>\n",
       "      <td>0</td>\n",
       "      <td>ID947738002</td>\n",
       "      <td>30 Abbott St</td>\n",
       "      <td>7</td>\n",
       "      <td>h</td>\n",
       "      <td>1350000.0</td>\n",
       "      <td>3/12/2016</td>\n",
       "      <td>2.0</td>\n",
       "      <td>0.0</td>\n",
       "      <td>942.0</td>\n",
       "      <td>59.0</td>\n",
       "      <td>-37.79230</td>\n",
       "      <td>145.10290</td>\n",
       "      <td>BALWYN NORTH</td>\n",
       "    </tr>\n",
       "    <tr>\n",
       "      <th>1</th>\n",
       "      <td>1</td>\n",
       "      <td>ID335157731</td>\n",
       "      <td>35 Douglas St</td>\n",
       "      <td>3</td>\n",
       "      <td>h</td>\n",
       "      <td>1365000.0</td>\n",
       "      <td>10/09/2016</td>\n",
       "      <td>1.0</td>\n",
       "      <td>1.0</td>\n",
       "      <td>792.0</td>\n",
       "      <td>69.0</td>\n",
       "      <td>-37.86400</td>\n",
       "      <td>145.09720</td>\n",
       "      <td>ASHWOOD</td>\n",
       "    </tr>\n",
       "    <tr>\n",
       "      <th>2</th>\n",
       "      <td>2</td>\n",
       "      <td>ID422740389</td>\n",
       "      <td>22 Baldwin St</td>\n",
       "      <td>2</td>\n",
       "      <td>h</td>\n",
       "      <td>1859000.0</td>\n",
       "      <td>6/05/2017</td>\n",
       "      <td>2.0</td>\n",
       "      <td>3.0</td>\n",
       "      <td>311.0</td>\n",
       "      <td>49.0</td>\n",
       "      <td>-37.85450</td>\n",
       "      <td>145.02190</td>\n",
       "      <td>ARMADALE</td>\n",
       "    </tr>\n",
       "    <tr>\n",
       "      <th>3</th>\n",
       "      <td>3</td>\n",
       "      <td>ID801151886</td>\n",
       "      <td>6 Wicklow St</td>\n",
       "      <td>3</td>\n",
       "      <td>h</td>\n",
       "      <td>800000.0</td>\n",
       "      <td>13/05/2017</td>\n",
       "      <td>1.0</td>\n",
       "      <td>2.0</td>\n",
       "      <td>506.0</td>\n",
       "      <td>49.0</td>\n",
       "      <td>-37.71870</td>\n",
       "      <td>144.94330</td>\n",
       "      <td>PASCOE VALE</td>\n",
       "    </tr>\n",
       "    <tr>\n",
       "      <th>4</th>\n",
       "      <td>4</td>\n",
       "      <td>ID953676311</td>\n",
       "      <td>1/108 Truganini Rd</td>\n",
       "      <td>4</td>\n",
       "      <td>t</td>\n",
       "      <td>1250000.0</td>\n",
       "      <td>8/07/2017</td>\n",
       "      <td>3.0</td>\n",
       "      <td>2.0</td>\n",
       "      <td>326.0</td>\n",
       "      <td>14.0</td>\n",
       "      <td>-37.89334</td>\n",
       "      <td>145.05463</td>\n",
       "      <td>CARNEGIE</td>\n",
       "    </tr>\n",
       "  </tbody>\n",
       "</table>\n",
       "</div>"
      ],
      "text/plain": [
       "   index           ID             Address  Rooms Type      Price        Date  \\\n",
       "0      0  ID947738002        30 Abbott St      7    h  1350000.0   3/12/2016   \n",
       "1      1  ID335157731       35 Douglas St      3    h  1365000.0  10/09/2016   \n",
       "2      2  ID422740389       22 Baldwin St      2    h  1859000.0   6/05/2017   \n",
       "3      3  ID801151886        6 Wicklow St      3    h   800000.0  13/05/2017   \n",
       "4      4  ID953676311  1/108 Truganini Rd      4    t  1250000.0   8/07/2017   \n",
       "\n",
       "   Bathroom  Car  Landsize   Age  Lattitude  Longtitude        Suburb  \n",
       "0       2.0  0.0     942.0  59.0  -37.79230   145.10290  BALWYN NORTH  \n",
       "1       1.0  1.0     792.0  69.0  -37.86400   145.09720       ASHWOOD  \n",
       "2       2.0  3.0     311.0  49.0  -37.85450   145.02190      ARMADALE  \n",
       "3       1.0  2.0     506.0  49.0  -37.71870   144.94330   PASCOE VALE  \n",
       "4       3.0  2.0     326.0  14.0  -37.89334   145.05463      CARNEGIE  "
      ]
     },
     "execution_count": 10,
     "metadata": {},
     "output_type": "execute_result"
    }
   ],
   "source": [
    "data.head()"
   ]
  },
  {
   "cell_type": "markdown",
   "metadata": {},
   "source": [
    "### Train station ID\n",
    "Finding the train station closest to the property which has a direct trip to Southern Cross station on weekdays betweek 7am to 9.30 pm. "
   ]
  },
  {
   "cell_type": "markdown",
   "metadata": {},
   "source": [
    "First reading the GTFS data. GTFS data contains information about the transit system - routes, timings, trips, stop times, stations and schedules. Using folders 1 and 2 only for train information (Rest contain data about other modes of transport)."
   ]
  },
  {
   "cell_type": "code",
   "execution_count": 11,
   "metadata": {},
   "outputs": [],
   "source": [
    "# Reading GTFS data from file 1 and 2\n",
    "calendar = pd.DataFrame()\n",
    "stop_times = pd.DataFrame()\n",
    "stops = pd.DataFrame()\n",
    "trips = pd.DataFrame()\n",
    "\n",
    "gtfs_folders = [1,2]\n",
    "for folder in gtfs_folders:\n",
    "    calendar_df = pd.read_csv(\"gtfs/\"+ str(folder) +\"/google_transit/calendar.txt\")\n",
    "    stop_times_df = pd.read_csv(\"gtfs/\"+ str(folder) +\"/google_transit/stop_times.txt\")\n",
    "    stops_df = pd.read_csv(\"gtfs/\"+ str(folder) +\"/google_transit/stops.txt\")\n",
    "    trips_df = pd.read_csv(\"gtfs/\"+ str(folder) +\"/google_transit/trips.txt\")\n",
    "    \n",
    "    # merging data \n",
    "    calendar = pd.concat([calendar, calendar_df], ignore_index=True)\n",
    "    stop_times = pd.concat([stop_times, stop_times_df], ignore_index=True)\n",
    "    stops = pd.concat([stops, stops_df], ignore_index=True)\n",
    "    trips = pd.concat([trips, trips_df], ignore_index=True)"
   ]
  },
  {
   "cell_type": "markdown",
   "metadata": {},
   "source": [
    "* Using stops file to find stopID for Southern Cross Railway Station and store it."
   ]
  },
  {
   "cell_type": "code",
   "execution_count": 12,
   "metadata": {},
   "outputs": [
    {
     "data": {
      "text/plain": [
       "array([20043, 22180], dtype=int64)"
      ]
     },
     "execution_count": 12,
     "metadata": {},
     "output_type": "execute_result"
    }
   ],
   "source": [
    "# Getting stopIDs for Southern Cross Railway Station\n",
    "SC_stop_ids = stops[stops.stop_name==\"Southern Cross Railway Station (Melbourne City)\"].stop_id.unique()\n",
    "SC_stop_ids"
   ]
  },
  {
   "cell_type": "markdown",
   "metadata": {},
   "source": [
    "* Find service ID that denotes the service IDs for weekdays"
   ]
  },
  {
   "cell_type": "code",
   "execution_count": 13,
   "metadata": {},
   "outputs": [
    {
     "data": {
      "text/plain": [
       "{'T0', 'T0_1', 'T0_2', 'T0_3'}"
      ]
     },
     "execution_count": 13,
     "metadata": {},
     "output_type": "execute_result"
    }
   ],
   "source": [
    "# getting service IDs for weekdays \n",
    "wkdays_servids = set(calendar[(calendar.monday==1)&(calendar.tuesday==1)&(calendar.wednesday==1)&(calendar.thursday==1)&(calendar.friday==1)].service_id.unique())\n",
    "wkdays_servids"
   ]
  },
  {
   "cell_type": "code",
   "execution_count": 14,
   "metadata": {},
   "outputs": [
    {
     "data": {
      "text/plain": [
       "array(['1051.T0.1-V08-G-mjp-1.1.H', '1052.T0.1-V08-G-mjp-1.2.H',\n",
       "       '1053.T0.1-V08-G-mjp-1.2.H', ..., '2667.T0.2-WMN-F-mjp-1.6.R',\n",
       "       '2671.T0.2-WMN-F-mjp-1.6.R', '2677.T0.2-WMN-F-mjp-1.6.R'],\n",
       "      dtype=object)"
      ]
     },
     "execution_count": 14,
     "metadata": {},
     "output_type": "execute_result"
    }
   ],
   "source": [
    "# getting tripIDs that run on weekdays\n",
    "trip_ids_wkday = trips[trips.service_id.isin(wkdays_servids)].trip_id.unique()\n",
    "trip_ids_wkday"
   ]
  },
  {
   "cell_type": "markdown",
   "metadata": {},
   "source": [
    "* Merge stop_times with stop's lat,long into stop_data \n",
    "* Also merge service IDs for for all trips into stop_data"
   ]
  },
  {
   "cell_type": "code",
   "execution_count": 15,
   "metadata": {},
   "outputs": [
    {
     "data": {
      "text/html": [
       "<div>\n",
       "<style scoped>\n",
       "    .dataframe tbody tr th:only-of-type {\n",
       "        vertical-align: middle;\n",
       "    }\n",
       "\n",
       "    .dataframe tbody tr th {\n",
       "        vertical-align: top;\n",
       "    }\n",
       "\n",
       "    .dataframe thead th {\n",
       "        text-align: right;\n",
       "    }\n",
       "</style>\n",
       "<table border=\"1\" class=\"dataframe\">\n",
       "  <thead>\n",
       "    <tr style=\"text-align: right;\">\n",
       "      <th></th>\n",
       "      <th>trip_id</th>\n",
       "      <th>arrival_time</th>\n",
       "      <th>departure_time</th>\n",
       "      <th>stop_id</th>\n",
       "      <th>stop_sequence</th>\n",
       "      <th>stop_headsign</th>\n",
       "      <th>pickup_type</th>\n",
       "      <th>drop_off_type</th>\n",
       "      <th>shape_dist_traveled</th>\n",
       "      <th>stop_lat</th>\n",
       "      <th>stop_lon</th>\n",
       "      <th>service_id</th>\n",
       "    </tr>\n",
       "  </thead>\n",
       "  <tbody>\n",
       "    <tr>\n",
       "      <th>0</th>\n",
       "      <td>7548.UR.1-V08-A-mjp-1.1.H</td>\n",
       "      <td>06:08:00</td>\n",
       "      <td>06:08:00</td>\n",
       "      <td>20291</td>\n",
       "      <td>1</td>\n",
       "      <td>NaN</td>\n",
       "      <td>0</td>\n",
       "      <td>0</td>\n",
       "      <td>0.000000</td>\n",
       "      <td>-37.828720</td>\n",
       "      <td>147.627614</td>\n",
       "      <td>UR</td>\n",
       "    </tr>\n",
       "    <tr>\n",
       "      <th>1</th>\n",
       "      <td>7548.UR.1-V08-A-mjp-1.1.H</td>\n",
       "      <td>06:42:00</td>\n",
       "      <td>06:42:00</td>\n",
       "      <td>20346</td>\n",
       "      <td>2</td>\n",
       "      <td>NaN</td>\n",
       "      <td>0</td>\n",
       "      <td>0</td>\n",
       "      <td>52720.840026</td>\n",
       "      <td>-37.967047</td>\n",
       "      <td>147.081469</td>\n",
       "      <td>UR</td>\n",
       "    </tr>\n",
       "    <tr>\n",
       "      <th>2</th>\n",
       "      <td>7548.UR.1-V08-A-mjp-1.1.H</td>\n",
       "      <td>06:55:00</td>\n",
       "      <td>06:57:00</td>\n",
       "      <td>20341</td>\n",
       "      <td>3</td>\n",
       "      <td>NaN</td>\n",
       "      <td>0</td>\n",
       "      <td>0</td>\n",
       "      <td>68786.649688</td>\n",
       "      <td>-38.103103</td>\n",
       "      <td>147.054805</td>\n",
       "      <td>UR</td>\n",
       "    </tr>\n",
       "    <tr>\n",
       "      <th>3</th>\n",
       "      <td>7548.UR.1-V08-A-mjp-1.1.H</td>\n",
       "      <td>07:16:00</td>\n",
       "      <td>07:16:00</td>\n",
       "      <td>20339</td>\n",
       "      <td>4</td>\n",
       "      <td>NaN</td>\n",
       "      <td>0</td>\n",
       "      <td>0</td>\n",
       "      <td>94514.728171</td>\n",
       "      <td>-38.156404</td>\n",
       "      <td>146.786966</td>\n",
       "      <td>UR</td>\n",
       "    </tr>\n",
       "    <tr>\n",
       "      <th>4</th>\n",
       "      <td>7548.UR.1-V08-A-mjp-1.1.H</td>\n",
       "      <td>07:32:00</td>\n",
       "      <td>07:34:00</td>\n",
       "      <td>20351</td>\n",
       "      <td>5</td>\n",
       "      <td>NaN</td>\n",
       "      <td>0</td>\n",
       "      <td>0</td>\n",
       "      <td>116895.210301</td>\n",
       "      <td>-38.198885</td>\n",
       "      <td>146.537882</td>\n",
       "      <td>UR</td>\n",
       "    </tr>\n",
       "  </tbody>\n",
       "</table>\n",
       "</div>"
      ],
      "text/plain": [
       "                     trip_id arrival_time departure_time  stop_id  \\\n",
       "0  7548.UR.1-V08-A-mjp-1.1.H     06:08:00       06:08:00    20291   \n",
       "1  7548.UR.1-V08-A-mjp-1.1.H     06:42:00       06:42:00    20346   \n",
       "2  7548.UR.1-V08-A-mjp-1.1.H     06:55:00       06:57:00    20341   \n",
       "3  7548.UR.1-V08-A-mjp-1.1.H     07:16:00       07:16:00    20339   \n",
       "4  7548.UR.1-V08-A-mjp-1.1.H     07:32:00       07:34:00    20351   \n",
       "\n",
       "   stop_sequence  stop_headsign  pickup_type  drop_off_type  \\\n",
       "0              1            NaN            0              0   \n",
       "1              2            NaN            0              0   \n",
       "2              3            NaN            0              0   \n",
       "3              4            NaN            0              0   \n",
       "4              5            NaN            0              0   \n",
       "\n",
       "   shape_dist_traveled   stop_lat    stop_lon service_id  \n",
       "0             0.000000 -37.828720  147.627614         UR  \n",
       "1         52720.840026 -37.967047  147.081469         UR  \n",
       "2         68786.649688 -38.103103  147.054805         UR  \n",
       "3         94514.728171 -38.156404  146.786966         UR  \n",
       "4        116895.210301 -38.198885  146.537882         UR  "
      ]
     },
     "execution_count": 15,
     "metadata": {},
     "output_type": "execute_result"
    }
   ],
   "source": [
    "# merging stops times with stop_times for lat,long for each stop id\n",
    "stop_data = pd.merge(stop_times,stops[['stop_id','stop_lat','stop_lon']], on='stop_id', how='left')\n",
    "# merging stop times with service ID for each trip ID\n",
    "stop_data = pd.merge(stop_data,trips[['trip_id','service_id']],on='trip_id', how='left')\n",
    "stop_data.head()"
   ]
  },
  {
   "cell_type": "code",
   "execution_count": 16,
   "metadata": {},
   "outputs": [],
   "source": [
    "# formatting time \n",
    "stop_times.departure_time = pd.to_timedelta(stop_times.departure_time)\n",
    "stop_times.departure_time = pd.to_timedelta(stop_times.departure_time)"
   ]
  },
  {
   "cell_type": "markdown",
   "metadata": {},
   "source": [
    "Filter data from stop_data to find unique trip IDs which: \n",
    "* Have Southern Cross as a stop\n",
    "* Runs on weekdays\n",
    "* runs between 7 am to 9.30am"
   ]
  },
  {
   "cell_type": "code",
   "execution_count": 17,
   "metadata": {},
   "outputs": [
    {
     "data": {
      "text/plain": [
       "341"
      ]
     },
     "execution_count": 17,
     "metadata": {},
     "output_type": "execute_result"
    }
   ],
   "source": [
    "# Finding unique tripIDs that run on weekdays , and goto southern cross directly between 7-9.30am\n",
    "trip_id_wkday_SC_morning = stop_data[(stop_data.trip_id.isin(trip_ids_wkday)) & (stop_data.stop_id.isin(SC_stop_ids)) & (pd.to_timedelta(stop_data.departure_time) >= pd.to_timedelta('07:00:00')) & (pd.to_timedelta(stop_data.departure_time) <= pd.to_timedelta('09:30:00')) & (stop_data.stop_sequence>5)].trip_id.unique()\n",
    "len(trip_id_wkday_SC_morning)"
   ]
  },
  {
   "cell_type": "markdown",
   "metadata": {},
   "source": [
    "Finally finding relavant data by filtering stop_data for data which has:\n",
    "* Trips running to Southern Cross\n",
    "* Between 7 am to 9.30 am\n",
    "* Runs on weekdays\n",
    "\n",
    "This data frame will allow us to find station id nearest to the properties with direct trips to southern corss on weekdays between 7 am to 9.30 am."
   ]
  },
  {
   "cell_type": "code",
   "execution_count": 18,
   "metadata": {},
   "outputs": [],
   "source": [
    "# filtering complete data with relevant tripIDs as filtered above \n",
    "stop_data_relevant = stop_data[stop_data.trip_id.isin(trip_id_wkday_SC_morning) & (stop_data.trip_id.isin(trip_ids_wkday)) & (pd.to_timedelta(stop_data.departure_time) >= pd.to_timedelta('07:00:00')) & (pd.to_timedelta(stop_data.departure_time) <= pd.to_timedelta('09:30:00'))]"
   ]
  },
  {
   "cell_type": "markdown",
   "metadata": {},
   "source": [
    "Defining haversign distance function to calculate distance between the centers and other nodes. \n",
    "\n",
    "**Haversine Formula** - \n",
    "Consider the following:\n",
    "$$\n",
    "R=~Radius~of~the~Earth\\\\\n",
    "\\phi_1~=~Latitude~of~point~1\\\\\n",
    "\\phi_2~=~Latitude~of~point~2\\\\\n",
    "\\lambda_1~=~Longitude~of~point~1\\\\\n",
    "\\lambda_2~=~Longitude~of~point~2\\\\\n",
    "$$\n",
    "The distance between any two points on Earth can be calculated using Haversine Formula, using their co-ordinates.  \n",
    "The haversine formula is defined as the following:\n",
    "$$\n",
    "a~=~sin^2\\bigg(\\frac{\\phi_2-\\phi_1}{2}\\bigg) + cos(\\phi_1).cos(\\phi_2).sin^2\\bigg(\\frac{\\lambda_2-\\lambda_1}{2}\\bigg)\\\\\n",
    "$$\n",
    "\n",
    "The haversine is used to map cartesian coordinates to polar coordinates using the `atan2` function\n",
    "$$\n",
    "polar~=~2.atan2(\\sqrt{a},\\sqrt{1-a})\\\\\n",
    "$$\n",
    "\n",
    "The distance of the two points is :\n",
    "$$\n",
    "distance~=~R.polar\n",
    "$$"
   ]
  },
  {
   "cell_type": "code",
   "execution_count": 19,
   "metadata": {},
   "outputs": [],
   "source": [
    "# Haversine distance function\n",
    "def haversine_distance(lat1, lon1, lat2, lon2):\n",
    "    R = 6378 # radius of the earth in KMs\n",
    "    \n",
    "    lat_diff = radians(lat2 - lat1)\n",
    "    long_diff = radians(lon2 - lon1)\n",
    "    \n",
    "    rad_lat1 = radians(lat1)\n",
    "    rad_lat2 = radians(lat2)\n",
    "    \n",
    "    h = (sin(lat_diff/2) ** 2)+(cos(rad_lat1) * cos(rad_lat2) * (sin(long_diff/2) ** 2))\n",
    "    \n",
    "    polar = atan2(sqrt(h), sqrt(1-h))\n",
    "\n",
    "    distance = (2*R*polar)*1000 # Distance is in KMs, multiply by 1000 to get meters\n",
    "    \n",
    "    return round(distance, 3)\n"
   ]
  },
  {
   "cell_type": "markdown",
   "metadata": {},
   "source": [
    "Defining a funtion to compute nearest stop_id given lat,long values of the property. This function uses haversine function to find the distance from the property to all stations which have disired trips and find the one with minimum distance. Returns the station ID (stop_id) and the distance."
   ]
  },
  {
   "cell_type": "code",
   "execution_count": 20,
   "metadata": {},
   "outputs": [],
   "source": [
    "# function to calculate nearest stop_id and distance to that stop_id given lat long of the property\n",
    "def closest_stop(lat,long):\n",
    "    d = stop_data_relevant.apply(lambda row: haversine_distance(lat,long,row.stop_lat,row.stop_lon), axis=1)\n",
    "    min_index = min(d.items(), key = lambda row:row[1])\n",
    "    return stop_data_relevant.loc[min_index[0],'stop_id'], min_index[1]"
   ]
  },
  {
   "cell_type": "markdown",
   "metadata": {},
   "source": [
    "Applying closest stop functio to all rows of the properties data. "
   ]
  },
  {
   "cell_type": "code",
   "execution_count": 21,
   "metadata": {},
   "outputs": [],
   "source": [
    "# applying nearest stop function on property data\n",
    "closest_stops = data[['Lattitude','Longtitude']].apply(lambda row: closest_stop(row.Lattitude,row.Longtitude),axis = 1).values"
   ]
  },
  {
   "cell_type": "markdown",
   "metadata": {},
   "source": [
    "Appending nearest stop and its distance to the main data."
   ]
  },
  {
   "cell_type": "code",
   "execution_count": 22,
   "metadata": {},
   "outputs": [],
   "source": [
    "# adding nearest stop_id and distance to main data\n",
    "for index in range(len(closest_stops)):\n",
    "    data.loc[index,'train_station_id'] = int(closest_stops[index][0])\n",
    "    data.loc[index,'distance_to_train_station'] = int(closest_stops[index][1])"
   ]
  },
  {
   "cell_type": "code",
   "execution_count": 23,
   "metadata": {
    "scrolled": true
   },
   "outputs": [
    {
     "data": {
      "text/html": [
       "<div>\n",
       "<style scoped>\n",
       "    .dataframe tbody tr th:only-of-type {\n",
       "        vertical-align: middle;\n",
       "    }\n",
       "\n",
       "    .dataframe tbody tr th {\n",
       "        vertical-align: top;\n",
       "    }\n",
       "\n",
       "    .dataframe thead th {\n",
       "        text-align: right;\n",
       "    }\n",
       "</style>\n",
       "<table border=\"1\" class=\"dataframe\">\n",
       "  <thead>\n",
       "    <tr style=\"text-align: right;\">\n",
       "      <th></th>\n",
       "      <th>index</th>\n",
       "      <th>ID</th>\n",
       "      <th>Address</th>\n",
       "      <th>Rooms</th>\n",
       "      <th>Type</th>\n",
       "      <th>Price</th>\n",
       "      <th>Date</th>\n",
       "      <th>Bathroom</th>\n",
       "      <th>Car</th>\n",
       "      <th>Landsize</th>\n",
       "      <th>Age</th>\n",
       "      <th>Lattitude</th>\n",
       "      <th>Longtitude</th>\n",
       "      <th>Suburb</th>\n",
       "      <th>train_station_id</th>\n",
       "      <th>distance_to_train_station</th>\n",
       "    </tr>\n",
       "  </thead>\n",
       "  <tbody>\n",
       "    <tr>\n",
       "      <th>0</th>\n",
       "      <td>0</td>\n",
       "      <td>ID947738002</td>\n",
       "      <td>30 Abbott St</td>\n",
       "      <td>7</td>\n",
       "      <td>h</td>\n",
       "      <td>1350000.0</td>\n",
       "      <td>3/12/2016</td>\n",
       "      <td>2.0</td>\n",
       "      <td>0.0</td>\n",
       "      <td>942.0</td>\n",
       "      <td>59.0</td>\n",
       "      <td>-37.79230</td>\n",
       "      <td>145.10290</td>\n",
       "      <td>BALWYN NORTH</td>\n",
       "      <td>19896.0</td>\n",
       "      <td>3028.0</td>\n",
       "    </tr>\n",
       "    <tr>\n",
       "      <th>1</th>\n",
       "      <td>1</td>\n",
       "      <td>ID335157731</td>\n",
       "      <td>35 Douglas St</td>\n",
       "      <td>3</td>\n",
       "      <td>h</td>\n",
       "      <td>1365000.0</td>\n",
       "      <td>10/09/2016</td>\n",
       "      <td>1.0</td>\n",
       "      <td>1.0</td>\n",
       "      <td>792.0</td>\n",
       "      <td>69.0</td>\n",
       "      <td>-37.86400</td>\n",
       "      <td>145.09720</td>\n",
       "      <td>ASHWOOD</td>\n",
       "      <td>19848.0</td>\n",
       "      <td>1411.0</td>\n",
       "    </tr>\n",
       "    <tr>\n",
       "      <th>2</th>\n",
       "      <td>2</td>\n",
       "      <td>ID422740389</td>\n",
       "      <td>22 Baldwin St</td>\n",
       "      <td>2</td>\n",
       "      <td>h</td>\n",
       "      <td>1859000.0</td>\n",
       "      <td>6/05/2017</td>\n",
       "      <td>2.0</td>\n",
       "      <td>3.0</td>\n",
       "      <td>311.0</td>\n",
       "      <td>49.0</td>\n",
       "      <td>-37.85450</td>\n",
       "      <td>145.02190</td>\n",
       "      <td>ARMADALE</td>\n",
       "      <td>19945.0</td>\n",
       "      <td>313.0</td>\n",
       "    </tr>\n",
       "    <tr>\n",
       "      <th>3</th>\n",
       "      <td>3</td>\n",
       "      <td>ID801151886</td>\n",
       "      <td>6 Wicklow St</td>\n",
       "      <td>3</td>\n",
       "      <td>h</td>\n",
       "      <td>800000.0</td>\n",
       "      <td>13/05/2017</td>\n",
       "      <td>1.0</td>\n",
       "      <td>2.0</td>\n",
       "      <td>506.0</td>\n",
       "      <td>49.0</td>\n",
       "      <td>-37.71870</td>\n",
       "      <td>144.94330</td>\n",
       "      <td>PASCOE VALE</td>\n",
       "      <td>19962.0</td>\n",
       "      <td>1584.0</td>\n",
       "    </tr>\n",
       "    <tr>\n",
       "      <th>4</th>\n",
       "      <td>4</td>\n",
       "      <td>ID953676311</td>\n",
       "      <td>1/108 Truganini Rd</td>\n",
       "      <td>4</td>\n",
       "      <td>t</td>\n",
       "      <td>1250000.0</td>\n",
       "      <td>8/07/2017</td>\n",
       "      <td>3.0</td>\n",
       "      <td>2.0</td>\n",
       "      <td>326.0</td>\n",
       "      <td>14.0</td>\n",
       "      <td>-37.89334</td>\n",
       "      <td>145.05463</td>\n",
       "      <td>CARNEGIE</td>\n",
       "      <td>19920.0</td>\n",
       "      <td>862.0</td>\n",
       "    </tr>\n",
       "  </tbody>\n",
       "</table>\n",
       "</div>"
      ],
      "text/plain": [
       "   index           ID             Address  Rooms Type      Price        Date  \\\n",
       "0      0  ID947738002        30 Abbott St      7    h  1350000.0   3/12/2016   \n",
       "1      1  ID335157731       35 Douglas St      3    h  1365000.0  10/09/2016   \n",
       "2      2  ID422740389       22 Baldwin St      2    h  1859000.0   6/05/2017   \n",
       "3      3  ID801151886        6 Wicklow St      3    h   800000.0  13/05/2017   \n",
       "4      4  ID953676311  1/108 Truganini Rd      4    t  1250000.0   8/07/2017   \n",
       "\n",
       "   Bathroom  Car  Landsize   Age  Lattitude  Longtitude        Suburb  \\\n",
       "0       2.0  0.0     942.0  59.0  -37.79230   145.10290  BALWYN NORTH   \n",
       "1       1.0  1.0     792.0  69.0  -37.86400   145.09720       ASHWOOD   \n",
       "2       2.0  3.0     311.0  49.0  -37.85450   145.02190      ARMADALE   \n",
       "3       1.0  2.0     506.0  49.0  -37.71870   144.94330   PASCOE VALE   \n",
       "4       3.0  2.0     326.0  14.0  -37.89334   145.05463      CARNEGIE   \n",
       "\n",
       "   train_station_id  distance_to_train_station  \n",
       "0           19896.0                     3028.0  \n",
       "1           19848.0                     1411.0  \n",
       "2           19945.0                      313.0  \n",
       "3           19962.0                     1584.0  \n",
       "4           19920.0                      862.0  "
      ]
     },
     "execution_count": 23,
     "metadata": {},
     "output_type": "execute_result"
    }
   ],
   "source": [
    "data.head()"
   ]
  },
  {
   "cell_type": "markdown",
   "metadata": {},
   "source": [
    "### Travel time to CBD"
   ]
  },
  {
   "cell_type": "markdown",
   "metadata": {},
   "source": [
    "Computing Travel time for `train_station_id` using following logic:\n",
    "* Store all train_station_ids as stop_ids\n",
    "* For each stop_ids, find all trips that it is a part of\n",
    "* For each trip of trips of a stop_id: find its departure time from station and find arrival time at Southern Cross Station\n",
    "* compute travel time = arrival time - departure time\n",
    "* store all travel times computed for a stop_id into a list an find average\n",
    "* store stop_id and average travel time into a dictionary\n",
    "* Use dictionary on main properties dataframe to map the travel time for each stop"
   ]
  },
  {
   "cell_type": "code",
   "execution_count": 24,
   "metadata": {},
   "outputs": [],
   "source": [
    "# storing all station ids\n",
    "stop_ids = list(set(data.train_station_id.tolist()))"
   ]
  },
  {
   "cell_type": "code",
   "execution_count": 25,
   "metadata": {},
   "outputs": [],
   "source": [
    "# empty dictionary to store stop_id and travel time\n",
    "travel_time = {}\n",
    "\n",
    "# find all travel time's average time to southern cross station for each stop id and store in dictionary\n",
    "for stop in stop_ids:\n",
    "    stop_df = stop_data_relevant[stop_data_relevant.stop_id==stop]\n",
    "    trips_list = stop_df.trip_id.unique()\n",
    "    times=[]\n",
    "    for trip in trips_list:\n",
    "        dtime = stop_data_relevant[(stop_data_relevant.stop_id==stop) & (stop_data_relevant.trip_id==trip)].departure_time.values[0]\n",
    "        atime = stop_data_relevant[(stop_data_relevant.stop_id.isin(SC_stop_ids)) & (stop_data_relevant.trip_id==trip)].arrival_time.values[0]\n",
    "        time = (pd.to_timedelta(atime).seconds - pd.to_timedelta(dtime).seconds)/60\n",
    "        times.append(time)\n",
    "    if len(times) > 0:\n",
    "        travel_time[stop] = int(sum(times)/len(times))"
   ]
  },
  {
   "cell_type": "code",
   "execution_count": 26,
   "metadata": {
    "scrolled": true
   },
   "outputs": [
    {
     "data": {
      "text/html": [
       "<div>\n",
       "<style scoped>\n",
       "    .dataframe tbody tr th:only-of-type {\n",
       "        vertical-align: middle;\n",
       "    }\n",
       "\n",
       "    .dataframe tbody tr th {\n",
       "        vertical-align: top;\n",
       "    }\n",
       "\n",
       "    .dataframe thead th {\n",
       "        text-align: right;\n",
       "    }\n",
       "</style>\n",
       "<table border=\"1\" class=\"dataframe\">\n",
       "  <thead>\n",
       "    <tr style=\"text-align: right;\">\n",
       "      <th></th>\n",
       "      <th>index</th>\n",
       "      <th>ID</th>\n",
       "      <th>Address</th>\n",
       "      <th>Rooms</th>\n",
       "      <th>Type</th>\n",
       "      <th>Price</th>\n",
       "      <th>Date</th>\n",
       "      <th>Bathroom</th>\n",
       "      <th>Car</th>\n",
       "      <th>Landsize</th>\n",
       "      <th>Age</th>\n",
       "      <th>Lattitude</th>\n",
       "      <th>Longtitude</th>\n",
       "      <th>Suburb</th>\n",
       "      <th>train_station_id</th>\n",
       "      <th>distance_to_train_station</th>\n",
       "      <th>travel_min_to_CBD</th>\n",
       "    </tr>\n",
       "  </thead>\n",
       "  <tbody>\n",
       "    <tr>\n",
       "      <th>0</th>\n",
       "      <td>0</td>\n",
       "      <td>ID947738002</td>\n",
       "      <td>30 Abbott St</td>\n",
       "      <td>7</td>\n",
       "      <td>h</td>\n",
       "      <td>1350000.0</td>\n",
       "      <td>3/12/2016</td>\n",
       "      <td>2.0</td>\n",
       "      <td>0.0</td>\n",
       "      <td>942.0</td>\n",
       "      <td>59.0</td>\n",
       "      <td>-37.79230</td>\n",
       "      <td>145.10290</td>\n",
       "      <td>BALWYN NORTH</td>\n",
       "      <td>19896.0</td>\n",
       "      <td>3028.0</td>\n",
       "      <td>28</td>\n",
       "    </tr>\n",
       "    <tr>\n",
       "      <th>1</th>\n",
       "      <td>1</td>\n",
       "      <td>ID335157731</td>\n",
       "      <td>35 Douglas St</td>\n",
       "      <td>3</td>\n",
       "      <td>h</td>\n",
       "      <td>1365000.0</td>\n",
       "      <td>10/09/2016</td>\n",
       "      <td>1.0</td>\n",
       "      <td>1.0</td>\n",
       "      <td>792.0</td>\n",
       "      <td>69.0</td>\n",
       "      <td>-37.86400</td>\n",
       "      <td>145.09720</td>\n",
       "      <td>ASHWOOD</td>\n",
       "      <td>19848.0</td>\n",
       "      <td>1411.0</td>\n",
       "      <td>30</td>\n",
       "    </tr>\n",
       "    <tr>\n",
       "      <th>2</th>\n",
       "      <td>2</td>\n",
       "      <td>ID422740389</td>\n",
       "      <td>22 Baldwin St</td>\n",
       "      <td>2</td>\n",
       "      <td>h</td>\n",
       "      <td>1859000.0</td>\n",
       "      <td>6/05/2017</td>\n",
       "      <td>2.0</td>\n",
       "      <td>3.0</td>\n",
       "      <td>311.0</td>\n",
       "      <td>49.0</td>\n",
       "      <td>-37.85450</td>\n",
       "      <td>145.02190</td>\n",
       "      <td>ARMADALE</td>\n",
       "      <td>19945.0</td>\n",
       "      <td>313.0</td>\n",
       "      <td>19</td>\n",
       "    </tr>\n",
       "    <tr>\n",
       "      <th>3</th>\n",
       "      <td>3</td>\n",
       "      <td>ID801151886</td>\n",
       "      <td>6 Wicklow St</td>\n",
       "      <td>3</td>\n",
       "      <td>h</td>\n",
       "      <td>800000.0</td>\n",
       "      <td>13/05/2017</td>\n",
       "      <td>1.0</td>\n",
       "      <td>2.0</td>\n",
       "      <td>506.0</td>\n",
       "      <td>49.0</td>\n",
       "      <td>-37.71870</td>\n",
       "      <td>144.94330</td>\n",
       "      <td>PASCOE VALE</td>\n",
       "      <td>19962.0</td>\n",
       "      <td>1584.0</td>\n",
       "      <td>36</td>\n",
       "    </tr>\n",
       "    <tr>\n",
       "      <th>4</th>\n",
       "      <td>4</td>\n",
       "      <td>ID953676311</td>\n",
       "      <td>1/108 Truganini Rd</td>\n",
       "      <td>4</td>\n",
       "      <td>t</td>\n",
       "      <td>1250000.0</td>\n",
       "      <td>8/07/2017</td>\n",
       "      <td>3.0</td>\n",
       "      <td>2.0</td>\n",
       "      <td>326.0</td>\n",
       "      <td>14.0</td>\n",
       "      <td>-37.89334</td>\n",
       "      <td>145.05463</td>\n",
       "      <td>CARNEGIE</td>\n",
       "      <td>19920.0</td>\n",
       "      <td>862.0</td>\n",
       "      <td>23</td>\n",
       "    </tr>\n",
       "  </tbody>\n",
       "</table>\n",
       "</div>"
      ],
      "text/plain": [
       "   index           ID             Address  Rooms Type      Price        Date  \\\n",
       "0      0  ID947738002        30 Abbott St      7    h  1350000.0   3/12/2016   \n",
       "1      1  ID335157731       35 Douglas St      3    h  1365000.0  10/09/2016   \n",
       "2      2  ID422740389       22 Baldwin St      2    h  1859000.0   6/05/2017   \n",
       "3      3  ID801151886        6 Wicklow St      3    h   800000.0  13/05/2017   \n",
       "4      4  ID953676311  1/108 Truganini Rd      4    t  1250000.0   8/07/2017   \n",
       "\n",
       "   Bathroom  Car  Landsize   Age  Lattitude  Longtitude        Suburb  \\\n",
       "0       2.0  0.0     942.0  59.0  -37.79230   145.10290  BALWYN NORTH   \n",
       "1       1.0  1.0     792.0  69.0  -37.86400   145.09720       ASHWOOD   \n",
       "2       2.0  3.0     311.0  49.0  -37.85450   145.02190      ARMADALE   \n",
       "3       1.0  2.0     506.0  49.0  -37.71870   144.94330   PASCOE VALE   \n",
       "4       3.0  2.0     326.0  14.0  -37.89334   145.05463      CARNEGIE   \n",
       "\n",
       "   train_station_id  distance_to_train_station  travel_min_to_CBD  \n",
       "0           19896.0                     3028.0                 28  \n",
       "1           19848.0                     1411.0                 30  \n",
       "2           19945.0                      313.0                 19  \n",
       "3           19962.0                     1584.0                 36  \n",
       "4           19920.0                      862.0                 23  "
      ]
     },
     "execution_count": 26,
     "metadata": {},
     "output_type": "execute_result"
    }
   ],
   "source": [
    "# map train_station_id to travel time and store in new column travel_min_to_CBD\n",
    "data['travel_min_to_CBD'] = data.train_station_id.map(travel_time)\n",
    "data.head()"
   ]
  },
  {
   "cell_type": "markdown",
   "metadata": {},
   "source": [
    "### Overpriced\n",
    "Checking to see if a property is overpriced by comparing the price by median price in the suburb for similar properties.\n",
    "* group data by Suburb, year, Rooms, Bathroom, Car and Type and find median price\n",
    "* Compare the price of each property with median price to check if its overpriced (1) or not (0)."
   ]
  },
  {
   "cell_type": "code",
   "execution_count": 27,
   "metadata": {},
   "outputs": [
    {
     "data": {
      "text/html": [
       "<div>\n",
       "<style scoped>\n",
       "    .dataframe tbody tr th:only-of-type {\n",
       "        vertical-align: middle;\n",
       "    }\n",
       "\n",
       "    .dataframe tbody tr th {\n",
       "        vertical-align: top;\n",
       "    }\n",
       "\n",
       "    .dataframe thead th {\n",
       "        text-align: right;\n",
       "    }\n",
       "</style>\n",
       "<table border=\"1\" class=\"dataframe\">\n",
       "  <thead>\n",
       "    <tr style=\"text-align: right;\">\n",
       "      <th></th>\n",
       "      <th>index</th>\n",
       "      <th>ID</th>\n",
       "      <th>Address</th>\n",
       "      <th>Rooms</th>\n",
       "      <th>Type</th>\n",
       "      <th>Price</th>\n",
       "      <th>Date</th>\n",
       "      <th>Bathroom</th>\n",
       "      <th>Car</th>\n",
       "      <th>Landsize</th>\n",
       "      <th>Age</th>\n",
       "      <th>Lattitude</th>\n",
       "      <th>Longtitude</th>\n",
       "      <th>Suburb</th>\n",
       "      <th>train_station_id</th>\n",
       "      <th>distance_to_train_station</th>\n",
       "      <th>travel_min_to_CBD</th>\n",
       "      <th>year</th>\n",
       "    </tr>\n",
       "  </thead>\n",
       "  <tbody>\n",
       "    <tr>\n",
       "      <th>0</th>\n",
       "      <td>0</td>\n",
       "      <td>ID947738002</td>\n",
       "      <td>30 Abbott St</td>\n",
       "      <td>7</td>\n",
       "      <td>h</td>\n",
       "      <td>1350000.0</td>\n",
       "      <td>3/12/2016</td>\n",
       "      <td>2.0</td>\n",
       "      <td>0.0</td>\n",
       "      <td>942.0</td>\n",
       "      <td>59.0</td>\n",
       "      <td>-37.79230</td>\n",
       "      <td>145.10290</td>\n",
       "      <td>BALWYN NORTH</td>\n",
       "      <td>19896.0</td>\n",
       "      <td>3028.0</td>\n",
       "      <td>28</td>\n",
       "      <td>2016</td>\n",
       "    </tr>\n",
       "    <tr>\n",
       "      <th>1</th>\n",
       "      <td>1</td>\n",
       "      <td>ID335157731</td>\n",
       "      <td>35 Douglas St</td>\n",
       "      <td>3</td>\n",
       "      <td>h</td>\n",
       "      <td>1365000.0</td>\n",
       "      <td>10/09/2016</td>\n",
       "      <td>1.0</td>\n",
       "      <td>1.0</td>\n",
       "      <td>792.0</td>\n",
       "      <td>69.0</td>\n",
       "      <td>-37.86400</td>\n",
       "      <td>145.09720</td>\n",
       "      <td>ASHWOOD</td>\n",
       "      <td>19848.0</td>\n",
       "      <td>1411.0</td>\n",
       "      <td>30</td>\n",
       "      <td>2016</td>\n",
       "    </tr>\n",
       "    <tr>\n",
       "      <th>2</th>\n",
       "      <td>2</td>\n",
       "      <td>ID422740389</td>\n",
       "      <td>22 Baldwin St</td>\n",
       "      <td>2</td>\n",
       "      <td>h</td>\n",
       "      <td>1859000.0</td>\n",
       "      <td>6/05/2017</td>\n",
       "      <td>2.0</td>\n",
       "      <td>3.0</td>\n",
       "      <td>311.0</td>\n",
       "      <td>49.0</td>\n",
       "      <td>-37.85450</td>\n",
       "      <td>145.02190</td>\n",
       "      <td>ARMADALE</td>\n",
       "      <td>19945.0</td>\n",
       "      <td>313.0</td>\n",
       "      <td>19</td>\n",
       "      <td>2017</td>\n",
       "    </tr>\n",
       "    <tr>\n",
       "      <th>3</th>\n",
       "      <td>3</td>\n",
       "      <td>ID801151886</td>\n",
       "      <td>6 Wicklow St</td>\n",
       "      <td>3</td>\n",
       "      <td>h</td>\n",
       "      <td>800000.0</td>\n",
       "      <td>13/05/2017</td>\n",
       "      <td>1.0</td>\n",
       "      <td>2.0</td>\n",
       "      <td>506.0</td>\n",
       "      <td>49.0</td>\n",
       "      <td>-37.71870</td>\n",
       "      <td>144.94330</td>\n",
       "      <td>PASCOE VALE</td>\n",
       "      <td>19962.0</td>\n",
       "      <td>1584.0</td>\n",
       "      <td>36</td>\n",
       "      <td>2017</td>\n",
       "    </tr>\n",
       "    <tr>\n",
       "      <th>4</th>\n",
       "      <td>4</td>\n",
       "      <td>ID953676311</td>\n",
       "      <td>1/108 Truganini Rd</td>\n",
       "      <td>4</td>\n",
       "      <td>t</td>\n",
       "      <td>1250000.0</td>\n",
       "      <td>8/07/2017</td>\n",
       "      <td>3.0</td>\n",
       "      <td>2.0</td>\n",
       "      <td>326.0</td>\n",
       "      <td>14.0</td>\n",
       "      <td>-37.89334</td>\n",
       "      <td>145.05463</td>\n",
       "      <td>CARNEGIE</td>\n",
       "      <td>19920.0</td>\n",
       "      <td>862.0</td>\n",
       "      <td>23</td>\n",
       "      <td>2017</td>\n",
       "    </tr>\n",
       "  </tbody>\n",
       "</table>\n",
       "</div>"
      ],
      "text/plain": [
       "   index           ID             Address  Rooms Type      Price        Date  \\\n",
       "0      0  ID947738002        30 Abbott St      7    h  1350000.0   3/12/2016   \n",
       "1      1  ID335157731       35 Douglas St      3    h  1365000.0  10/09/2016   \n",
       "2      2  ID422740389       22 Baldwin St      2    h  1859000.0   6/05/2017   \n",
       "3      3  ID801151886        6 Wicklow St      3    h   800000.0  13/05/2017   \n",
       "4      4  ID953676311  1/108 Truganini Rd      4    t  1250000.0   8/07/2017   \n",
       "\n",
       "   Bathroom  Car  Landsize   Age  Lattitude  Longtitude        Suburb  \\\n",
       "0       2.0  0.0     942.0  59.0  -37.79230   145.10290  BALWYN NORTH   \n",
       "1       1.0  1.0     792.0  69.0  -37.86400   145.09720       ASHWOOD   \n",
       "2       2.0  3.0     311.0  49.0  -37.85450   145.02190      ARMADALE   \n",
       "3       1.0  2.0     506.0  49.0  -37.71870   144.94330   PASCOE VALE   \n",
       "4       3.0  2.0     326.0  14.0  -37.89334   145.05463      CARNEGIE   \n",
       "\n",
       "   train_station_id  distance_to_train_station  travel_min_to_CBD  year  \n",
       "0           19896.0                     3028.0                 28  2016  \n",
       "1           19848.0                     1411.0                 30  2016  \n",
       "2           19945.0                      313.0                 19  2017  \n",
       "3           19962.0                     1584.0                 36  2017  \n",
       "4           19920.0                      862.0                 23  2017  "
      ]
     },
     "execution_count": 27,
     "metadata": {},
     "output_type": "execute_result"
    }
   ],
   "source": [
    "# Creating new column for year\n",
    "data['year'] = data.apply(lambda x: pd.to_datetime(x['Date']).year, axis=1)\n",
    "data.head()"
   ]
  },
  {
   "cell_type": "code",
   "execution_count": 28,
   "metadata": {},
   "outputs": [],
   "source": [
    "# Finding median prices for each suburb and other combinations of property\n",
    "m_prices = data.groupby(['Suburb','year','Rooms','Bathroom','Car','Type']).Price.median().to_dict()"
   ]
  },
  {
   "cell_type": "code",
   "execution_count": 30,
   "metadata": {},
   "outputs": [
    {
     "name": "stdout",
     "output_type": "stream",
     "text": [
      "675\n"
     ]
    }
   ],
   "source": [
    "# function that checks if the property is overpriced\n",
    "def overpriced(Suburb,year,Rooms,Bathroom,Car,Type, Price):\n",
    "    median_price = m_prices[(Suburb,year,Rooms,Bathroom,Car,Type)]\n",
    "    if Price > median_price:\n",
    "        return 1\n",
    "    else:\n",
    "        return 0\n",
    "\n",
    "# applying overpriced function on all rows\n",
    "data['over_priced?'] = data.apply(lambda x: overpriced(x.Suburb,x.year,x.Rooms,x.Bathroom,x.Car,x.Type,x.Price), axis=1)\n",
    "data.head() \n",
    "\n",
    "print(len(data['over_priced?']==1)) "
   ]
  },
  {
   "cell_type": "markdown",
   "metadata": {},
   "source": [
    "### Average Crime"
   ]
  },
  {
   "cell_type": "markdown",
   "metadata": {},
   "source": [
    "Finding Average crime type A,B,C for 3 previous years for each property \n",
    "* Read crime data for councils\n",
    "* 2016 and 2017 are the only years in properties so for both compute the average crime rates of each category of last three years\n",
    "* Average crime rate is found by -\n",
    "* 1. filter crime data for last 3 years\n",
    "* 2. group data by council, year and crime_type and find mean of offence count\n",
    "* 3. store it in a dictionary\n",
    "* 4. extend the dictionary to replace council with each suburb within that council, so for each council entry multiple suburb entries are created in the dictionary\n",
    "* 5. Map the suburb and year in main data to the dictionary to get the average crime rate for each category and store in new column."
   ]
  },
  {
   "cell_type": "code",
   "execution_count": 31,
   "metadata": {},
   "outputs": [
    {
     "data": {
      "text/plain": [
       "2017    367\n",
       "2016    308\n",
       "Name: year, dtype: int64"
      ]
     },
     "execution_count": 31,
     "metadata": {},
     "output_type": "execute_result"
    }
   ],
   "source": [
    "# Checking value for years\n",
    "data.year.value_counts()"
   ]
  },
  {
   "cell_type": "code",
   "execution_count": 32,
   "metadata": {},
   "outputs": [
    {
     "data": {
      "text/html": [
       "<div>\n",
       "<style scoped>\n",
       "    .dataframe tbody tr th:only-of-type {\n",
       "        vertical-align: middle;\n",
       "    }\n",
       "\n",
       "    .dataframe tbody tr th {\n",
       "        vertical-align: top;\n",
       "    }\n",
       "\n",
       "    .dataframe thead th {\n",
       "        text-align: right;\n",
       "    }\n",
       "</style>\n",
       "<table border=\"1\" class=\"dataframe\">\n",
       "  <thead>\n",
       "    <tr style=\"text-align: right;\">\n",
       "      <th></th>\n",
       "      <th>Apr - Mar reference period</th>\n",
       "      <th>Local Government Area</th>\n",
       "      <th>CSA Offence Division</th>\n",
       "      <th>Offence Count</th>\n",
       "      <th>crime_type</th>\n",
       "    </tr>\n",
       "  </thead>\n",
       "  <tbody>\n",
       "    <tr>\n",
       "      <th>0</th>\n",
       "      <td>2012</td>\n",
       "      <td>BANYULE</td>\n",
       "      <td>A Crimes against the person</td>\n",
       "      <td>4</td>\n",
       "      <td>A</td>\n",
       "    </tr>\n",
       "    <tr>\n",
       "      <th>1</th>\n",
       "      <td>2012</td>\n",
       "      <td>BANYULE</td>\n",
       "      <td>A Crimes against the person</td>\n",
       "      <td>568</td>\n",
       "      <td>A</td>\n",
       "    </tr>\n",
       "    <tr>\n",
       "      <th>2</th>\n",
       "      <td>2012</td>\n",
       "      <td>BANYULE</td>\n",
       "      <td>A Crimes against the person</td>\n",
       "      <td>132</td>\n",
       "      <td>A</td>\n",
       "    </tr>\n",
       "    <tr>\n",
       "      <th>3</th>\n",
       "      <td>2012</td>\n",
       "      <td>BANYULE</td>\n",
       "      <td>A Crimes against the person</td>\n",
       "      <td>12</td>\n",
       "      <td>A</td>\n",
       "    </tr>\n",
       "    <tr>\n",
       "      <th>4</th>\n",
       "      <td>2012</td>\n",
       "      <td>BANYULE</td>\n",
       "      <td>A Crimes against the person</td>\n",
       "      <td>46</td>\n",
       "      <td>A</td>\n",
       "    </tr>\n",
       "  </tbody>\n",
       "</table>\n",
       "</div>"
      ],
      "text/plain": [
       "   Apr - Mar reference period Local Government Area  \\\n",
       "0                        2012               BANYULE   \n",
       "1                        2012               BANYULE   \n",
       "2                        2012               BANYULE   \n",
       "3                        2012               BANYULE   \n",
       "4                        2012               BANYULE   \n",
       "\n",
       "          CSA Offence Division  Offence Count crime_type  \n",
       "0  A Crimes against the person              4          A  \n",
       "1  A Crimes against the person            568          A  \n",
       "2  A Crimes against the person            132          A  \n",
       "3  A Crimes against the person             12          A  \n",
       "4  A Crimes against the person             46          A  "
      ]
     },
     "execution_count": 32,
     "metadata": {},
     "output_type": "execute_result"
    }
   ],
   "source": [
    "# Reading crime data\n",
    "crime_data = pd.read_excel(\"crimebylocationdatatable-yearending31march2016.xlsx\", sheet_name = \"Table 1\", skiprows = 19)\n",
    "crime_data = crime_data[['Apr - Mar reference period','Local Government Area','CSA Offence Division','Offence Count']]\n",
    "crime_data['crime_type'] = crime_data['CSA Offence Division'].apply(lambda c: c[0])\n",
    "crime_data.head()"
   ]
  },
  {
   "cell_type": "code",
   "execution_count": 33,
   "metadata": {},
   "outputs": [
    {
     "name": "stderr",
     "output_type": "stream",
     "text": [
      "C:\\Program Files\\Anaconda3\\lib\\site-packages\\ipykernel_launcher.py:7: SettingWithCopyWarning: \n",
      "A value is trying to be set on a copy of a slice from a DataFrame.\n",
      "Try using .loc[row_indexer,col_indexer] = value instead\n",
      "\n",
      "See the caveats in the documentation: http://pandas.pydata.org/pandas-docs/stable/indexing.html#indexing-view-versus-copy\n",
      "  import sys\n"
     ]
    }
   ],
   "source": [
    "# Creating aggregations for crime rate before 2016 and 2017\n",
    "def average_crime_council(year):\n",
    "    years = list([year-1,year-2,year-3])\n",
    "    crime_cat = list(['A','B','C'])\n",
    "    if year >= 2016:\n",
    "        data = crime_data.loc[(crime_data['Apr - Mar reference period'].isin(years)) & crime_data['crime_type'].isin(crime_cat)]\n",
    "        data['year'] = year\n",
    "        return data.groupby(['Local Government Area','year','crime_type'])['Offence Count'].mean()\n",
    "\n",
    "# Find average crime rates for each crime type for 2016 and 2017\n",
    "crime_2016 = average_crime_council(2016)\n",
    "crime_2017 = average_crime_council(2017)\n",
    "crime_council_mean = pd.concat([crime_2016,crime_2017]).to_dict()"
   ]
  },
  {
   "cell_type": "code",
   "execution_count": 34,
   "metadata": {},
   "outputs": [],
   "source": [
    "# extending dictionary from council wise to suburb wise using councils.txt\n",
    "council_suburb = {}\n",
    "\n",
    "with open('councils.txt') as file:\n",
    "    councillines = file.readlines()\n",
    "\n",
    "for each in councillines:\n",
    "    council = each.split(\":\")[0].strip()\n",
    "    suburbs = each.split(\":\")[1].strip().replace('[','').replace(\"]\",\"\").replace('\\n','').replace(\"'\",\"\").split(\", \")\n",
    "    suburbs = [suburb.upper() for suburb in suburbs]\n",
    "    council_suburb[council]=suburbs\n",
    "\n",
    "# Changing from council to suburb wise average of crime types\n",
    "crime_suburb_mean = {}\n",
    "for key, value in crime_council_mean.items():\n",
    "    for each in list(council_suburb[key[0]]):\n",
    "        crime_suburb_mean[each,key[1],key[2]] = round(value,2)"
   ]
  },
  {
   "cell_type": "code",
   "execution_count": 35,
   "metadata": {},
   "outputs": [
    {
     "data": {
      "text/html": [
       "<div>\n",
       "<style scoped>\n",
       "    .dataframe tbody tr th:only-of-type {\n",
       "        vertical-align: middle;\n",
       "    }\n",
       "\n",
       "    .dataframe tbody tr th {\n",
       "        vertical-align: top;\n",
       "    }\n",
       "\n",
       "    .dataframe thead th {\n",
       "        text-align: right;\n",
       "    }\n",
       "</style>\n",
       "<table border=\"1\" class=\"dataframe\">\n",
       "  <thead>\n",
       "    <tr style=\"text-align: right;\">\n",
       "      <th></th>\n",
       "      <th>index</th>\n",
       "      <th>ID</th>\n",
       "      <th>Address</th>\n",
       "      <th>Rooms</th>\n",
       "      <th>Type</th>\n",
       "      <th>Price</th>\n",
       "      <th>Date</th>\n",
       "      <th>Bathroom</th>\n",
       "      <th>Car</th>\n",
       "      <th>Landsize</th>\n",
       "      <th>...</th>\n",
       "      <th>Longtitude</th>\n",
       "      <th>Suburb</th>\n",
       "      <th>train_station_id</th>\n",
       "      <th>distance_to_train_station</th>\n",
       "      <th>travel_min_to_CBD</th>\n",
       "      <th>year</th>\n",
       "      <th>over_priced?</th>\n",
       "      <th>crime_A_average</th>\n",
       "      <th>crime_B_average</th>\n",
       "      <th>crime_C_average</th>\n",
       "    </tr>\n",
       "  </thead>\n",
       "  <tbody>\n",
       "    <tr>\n",
       "      <th>0</th>\n",
       "      <td>0</td>\n",
       "      <td>ID947738002</td>\n",
       "      <td>30 Abbott St</td>\n",
       "      <td>7</td>\n",
       "      <td>h</td>\n",
       "      <td>1350000.0</td>\n",
       "      <td>3/12/2016</td>\n",
       "      <td>2.0</td>\n",
       "      <td>0.0</td>\n",
       "      <td>942.0</td>\n",
       "      <td>...</td>\n",
       "      <td>145.10290</td>\n",
       "      <td>BALWYN NORTH</td>\n",
       "      <td>19896.0</td>\n",
       "      <td>3028.0</td>\n",
       "      <td>28</td>\n",
       "      <td>2016</td>\n",
       "      <td>0</td>\n",
       "      <td>120.74</td>\n",
       "      <td>881.50</td>\n",
       "      <td>102.89</td>\n",
       "    </tr>\n",
       "    <tr>\n",
       "      <th>1</th>\n",
       "      <td>1</td>\n",
       "      <td>ID335157731</td>\n",
       "      <td>35 Douglas St</td>\n",
       "      <td>3</td>\n",
       "      <td>h</td>\n",
       "      <td>1365000.0</td>\n",
       "      <td>10/09/2016</td>\n",
       "      <td>1.0</td>\n",
       "      <td>1.0</td>\n",
       "      <td>792.0</td>\n",
       "      <td>...</td>\n",
       "      <td>145.09720</td>\n",
       "      <td>ASHWOOD</td>\n",
       "      <td>19848.0</td>\n",
       "      <td>1411.0</td>\n",
       "      <td>30</td>\n",
       "      <td>2016</td>\n",
       "      <td>0</td>\n",
       "      <td>206.75</td>\n",
       "      <td>1709.94</td>\n",
       "      <td>183.33</td>\n",
       "    </tr>\n",
       "    <tr>\n",
       "      <th>2</th>\n",
       "      <td>2</td>\n",
       "      <td>ID422740389</td>\n",
       "      <td>22 Baldwin St</td>\n",
       "      <td>2</td>\n",
       "      <td>h</td>\n",
       "      <td>1859000.0</td>\n",
       "      <td>6/05/2017</td>\n",
       "      <td>2.0</td>\n",
       "      <td>3.0</td>\n",
       "      <td>311.0</td>\n",
       "      <td>...</td>\n",
       "      <td>145.02190</td>\n",
       "      <td>ARMADALE</td>\n",
       "      <td>19945.0</td>\n",
       "      <td>313.0</td>\n",
       "      <td>19</td>\n",
       "      <td>2017</td>\n",
       "      <td>0</td>\n",
       "      <td>311.83</td>\n",
       "      <td>2261.40</td>\n",
       "      <td>423.00</td>\n",
       "    </tr>\n",
       "    <tr>\n",
       "      <th>3</th>\n",
       "      <td>3</td>\n",
       "      <td>ID801151886</td>\n",
       "      <td>6 Wicklow St</td>\n",
       "      <td>3</td>\n",
       "      <td>h</td>\n",
       "      <td>800000.0</td>\n",
       "      <td>13/05/2017</td>\n",
       "      <td>1.0</td>\n",
       "      <td>2.0</td>\n",
       "      <td>506.0</td>\n",
       "      <td>...</td>\n",
       "      <td>144.94330</td>\n",
       "      <td>PASCOE VALE</td>\n",
       "      <td>19962.0</td>\n",
       "      <td>1584.0</td>\n",
       "      <td>36</td>\n",
       "      <td>2017</td>\n",
       "      <td>0</td>\n",
       "      <td>92.00</td>\n",
       "      <td>1027.44</td>\n",
       "      <td>111.67</td>\n",
       "    </tr>\n",
       "    <tr>\n",
       "      <th>4</th>\n",
       "      <td>4</td>\n",
       "      <td>ID953676311</td>\n",
       "      <td>1/108 Truganini Rd</td>\n",
       "      <td>4</td>\n",
       "      <td>t</td>\n",
       "      <td>1250000.0</td>\n",
       "      <td>8/07/2017</td>\n",
       "      <td>3.0</td>\n",
       "      <td>2.0</td>\n",
       "      <td>326.0</td>\n",
       "      <td>...</td>\n",
       "      <td>145.05463</td>\n",
       "      <td>CARNEGIE</td>\n",
       "      <td>19920.0</td>\n",
       "      <td>862.0</td>\n",
       "      <td>23</td>\n",
       "      <td>2017</td>\n",
       "      <td>0</td>\n",
       "      <td>470.96</td>\n",
       "      <td>3339.71</td>\n",
       "      <td>557.00</td>\n",
       "    </tr>\n",
       "  </tbody>\n",
       "</table>\n",
       "<p>5 rows × 22 columns</p>\n",
       "</div>"
      ],
      "text/plain": [
       "   index           ID             Address  Rooms Type      Price        Date  \\\n",
       "0      0  ID947738002        30 Abbott St      7    h  1350000.0   3/12/2016   \n",
       "1      1  ID335157731       35 Douglas St      3    h  1365000.0  10/09/2016   \n",
       "2      2  ID422740389       22 Baldwin St      2    h  1859000.0   6/05/2017   \n",
       "3      3  ID801151886        6 Wicklow St      3    h   800000.0  13/05/2017   \n",
       "4      4  ID953676311  1/108 Truganini Rd      4    t  1250000.0   8/07/2017   \n",
       "\n",
       "   Bathroom  Car  Landsize       ...         Longtitude        Suburb  \\\n",
       "0       2.0  0.0     942.0       ...          145.10290  BALWYN NORTH   \n",
       "1       1.0  1.0     792.0       ...          145.09720       ASHWOOD   \n",
       "2       2.0  3.0     311.0       ...          145.02190      ARMADALE   \n",
       "3       1.0  2.0     506.0       ...          144.94330   PASCOE VALE   \n",
       "4       3.0  2.0     326.0       ...          145.05463      CARNEGIE   \n",
       "\n",
       "   train_station_id distance_to_train_station  travel_min_to_CBD  year  \\\n",
       "0           19896.0                    3028.0                 28  2016   \n",
       "1           19848.0                    1411.0                 30  2016   \n",
       "2           19945.0                     313.0                 19  2017   \n",
       "3           19962.0                    1584.0                 36  2017   \n",
       "4           19920.0                     862.0                 23  2017   \n",
       "\n",
       "   over_priced?  crime_A_average  crime_B_average  crime_C_average  \n",
       "0             0           120.74           881.50           102.89  \n",
       "1             0           206.75          1709.94           183.33  \n",
       "2             0           311.83          2261.40           423.00  \n",
       "3             0            92.00          1027.44           111.67  \n",
       "4             0           470.96          3339.71           557.00  \n",
       "\n",
       "[5 rows x 22 columns]"
      ]
     },
     "execution_count": 35,
     "metadata": {},
     "output_type": "execute_result"
    }
   ],
   "source": [
    "# using dictionary created above to add average crime rates to main data\n",
    "def map_crime_rate(crime_type):\n",
    "    return pd.Series(list(zip(data.Suburb, data.year))).map({tuple([key[0],key[1]]): value for key, value in crime_suburb_mean.items() if key[2]==crime_type})\n",
    "\n",
    "data['crime_A_average'] = map_crime_rate('A')\n",
    "data['crime_B_average'] = map_crime_rate('B')\n",
    "data['crime_C_average'] = map_crime_rate('C')\n",
    "data.head()"
   ]
  },
  {
   "cell_type": "markdown",
   "metadata": {},
   "source": [
    "Dropping columns that are not required and writing final output to file."
   ]
  },
  {
   "cell_type": "code",
   "execution_count": 39,
   "metadata": {},
   "outputs": [],
   "source": [
    "# Dropping columns not required\n",
    "data.drop(['year','index'],axis=1,inplace=True)"
   ]
  },
  {
   "cell_type": "code",
   "execution_count": 43,
   "metadata": {},
   "outputs": [],
   "source": [
    "# Writing to CSV\n",
    "data.to_csv('29853583_solution.csv', index=False)"
   ]
  },
  {
   "cell_type": "markdown",
   "metadata": {},
   "source": [
    "## Task 2: Data Reshaping\n",
    "Applying various transformation and scaling techniques on predictors and creating linear models to see how they fit."
   ]
  },
  {
   "cell_type": "code",
   "execution_count": 44,
   "metadata": {},
   "outputs": [],
   "source": [
    "# Copying data to new df for normalization/standardization\n",
    "data_copy = data[['Rooms','crime_C_average','travel_min_to_CBD','Age','Price']].copy()"
   ]
  },
  {
   "cell_type": "markdown",
   "metadata": {},
   "source": [
    "plotting all columns together without any transformation "
   ]
  },
  {
   "cell_type": "code",
   "execution_count": 45,
   "metadata": {},
   "outputs": [
    {
     "data": {
      "text/plain": [
       "(<matplotlib.axes._subplots.AxesSubplot at 0x221593b1400>,\n",
       " <matplotlib.axes._subplots.AxesSubplot at 0x221593b1400>,\n",
       " <matplotlib.axes._subplots.AxesSubplot at 0x221593b1400>,\n",
       " <matplotlib.axes._subplots.AxesSubplot at 0x221593b1400>)"
      ]
     },
     "execution_count": 45,
     "metadata": {},
     "output_type": "execute_result"
    },
    {
     "data": {
      "image/png": "[encoded data removed]",
      "text/plain": [
       "<Figure size 432x288 with 1 Axes>"
      ]
     },
     "metadata": {},
     "output_type": "display_data"
    }
   ],
   "source": [
    "data_copy['Rooms'].plot(), data_copy['crime_C_average'].plot(), data_copy['travel_min_to_CBD'].plot(), data_copy['Age'].plot()"
   ]
  },
  {
   "cell_type": "markdown",
   "metadata": {},
   "source": [
    "#### Linear model without transforamtion"
   ]
  },
  {
   "cell_type": "code",
   "execution_count": 46,
   "metadata": {},
   "outputs": [
    {
     "name": "stdout",
     "output_type": "stream",
     "text": [
      "R2 score -  0.4294388215504456\n",
      "MSE -  358318616041.3758\n"
     ]
    }
   ],
   "source": [
    "x_train, x_test, y_train, y_test = train_test_split(data_copy[['Rooms', 'crime_C_average', 'travel_min_to_CBD','Age']],\n",
    "                                                    data_copy.Price,test_size=0.2,\n",
    "                                                    random_state=111)\n",
    "lin_model = LinearRegression()\n",
    "lin_model.fit(x_train, y_train)\n",
    "y_pred = lin_model.predict(x_test)\n",
    "print(\"R2 score - \",lin_model.score(x_test, y_test))\n",
    "print(\"MSE - \",mean_squared_error(y_pred, y_test))"
   ]
  },
  {
   "cell_type": "markdown",
   "metadata": {},
   "source": [
    "### Z-scale transformation"
   ]
  },
  {
   "cell_type": "code",
   "execution_count": 47,
   "metadata": {},
   "outputs": [],
   "source": [
    "# Scaling data\n",
    "z_scale = preprocessing.StandardScaler().fit(data_copy[['Price']])\n",
    "df_z = z_scale.transform(data_copy[['Rooms','crime_C_average', 'travel_min_to_CBD','Age']]) "
   ]
  },
  {
   "cell_type": "code",
   "execution_count": 49,
   "metadata": {},
   "outputs": [
    {
     "data": {
      "text/html": [
       "<div>\n",
       "<style scoped>\n",
       "    .dataframe tbody tr th:only-of-type {\n",
       "        vertical-align: middle;\n",
       "    }\n",
       "\n",
       "    .dataframe tbody tr th {\n",
       "        vertical-align: top;\n",
       "    }\n",
       "\n",
       "    .dataframe thead th {\n",
       "        text-align: right;\n",
       "    }\n",
       "</style>\n",
       "<table border=\"1\" class=\"dataframe\">\n",
       "  <thead>\n",
       "    <tr style=\"text-align: right;\">\n",
       "      <th></th>\n",
       "      <th>Rooms</th>\n",
       "      <th>crime_C_average</th>\n",
       "      <th>travel_min_to_CBD</th>\n",
       "      <th>Age</th>\n",
       "      <th>Price</th>\n",
       "      <th>z_Rooms</th>\n",
       "      <th>z_crime_C_average</th>\n",
       "      <th>z_travel_min_to_CBD</th>\n",
       "      <th>z_Age</th>\n",
       "    </tr>\n",
       "  </thead>\n",
       "  <tbody>\n",
       "    <tr>\n",
       "      <th>0</th>\n",
       "      <td>3</td>\n",
       "      <td>6.33</td>\n",
       "      <td>33</td>\n",
       "      <td>44.0</td>\n",
       "      <td>635000.0</td>\n",
       "      <td>-1.647281</td>\n",
       "      <td>-1.647276</td>\n",
       "      <td>-1.647281</td>\n",
       "      <td>-1.647276</td>\n",
       "    </tr>\n",
       "    <tr>\n",
       "      <th>1</th>\n",
       "      <td>4</td>\n",
       "      <td>58.56</td>\n",
       "      <td>32</td>\n",
       "      <td>22.0</td>\n",
       "      <td>1305000.0</td>\n",
       "      <td>-1.647280</td>\n",
       "      <td>-1.647193</td>\n",
       "      <td>-1.647280</td>\n",
       "      <td>-1.647193</td>\n",
       "    </tr>\n",
       "    <tr>\n",
       "      <th>2</th>\n",
       "      <td>2</td>\n",
       "      <td>68.30</td>\n",
       "      <td>35</td>\n",
       "      <td>4.0</td>\n",
       "      <td>575000.0</td>\n",
       "      <td>-1.647283</td>\n",
       "      <td>-1.647177</td>\n",
       "      <td>-1.647283</td>\n",
       "      <td>-1.647177</td>\n",
       "    </tr>\n",
       "    <tr>\n",
       "      <th>3</th>\n",
       "      <td>3</td>\n",
       "      <td>68.30</td>\n",
       "      <td>31</td>\n",
       "      <td>99.0</td>\n",
       "      <td>1400000.0</td>\n",
       "      <td>-1.647281</td>\n",
       "      <td>-1.647177</td>\n",
       "      <td>-1.647281</td>\n",
       "      <td>-1.647177</td>\n",
       "    </tr>\n",
       "    <tr>\n",
       "      <th>4</th>\n",
       "      <td>3</td>\n",
       "      <td>25.22</td>\n",
       "      <td>17</td>\n",
       "      <td>79.0</td>\n",
       "      <td>1225000.0</td>\n",
       "      <td>-1.647281</td>\n",
       "      <td>-1.647246</td>\n",
       "      <td>-1.647281</td>\n",
       "      <td>-1.647246</td>\n",
       "    </tr>\n",
       "  </tbody>\n",
       "</table>\n",
       "</div>"
      ],
      "text/plain": [
       "   Rooms  crime_C_average  travel_min_to_CBD   Age      Price   z_Rooms  \\\n",
       "0      3             6.33                 33  44.0   635000.0 -1.647281   \n",
       "1      4            58.56                 32  22.0  1305000.0 -1.647280   \n",
       "2      2            68.30                 35   4.0   575000.0 -1.647283   \n",
       "3      3            68.30                 31  99.0  1400000.0 -1.647281   \n",
       "4      3            25.22                 17  79.0  1225000.0 -1.647281   \n",
       "\n",
       "   z_crime_C_average  z_travel_min_to_CBD     z_Age  \n",
       "0          -1.647276            -1.647281 -1.647276  \n",
       "1          -1.647193            -1.647280 -1.647193  \n",
       "2          -1.647177            -1.647283 -1.647177  \n",
       "3          -1.647177            -1.647281 -1.647177  \n",
       "4          -1.647246            -1.647281 -1.647246  "
      ]
     },
     "execution_count": 49,
     "metadata": {},
     "output_type": "execute_result"
    }
   ],
   "source": [
    "# adding to df\n",
    "data_copy['z_Rooms'] = df_z[:,0]\n",
    "data_copy['z_crime_C_average'] = df_z[:,1]\n",
    "data_copy['z_travel_min_to_CBD'] = df_z[:,0] \n",
    "data_copy['z_Age'] = df_z[:,1]\n",
    "data_copy.head()"
   ]
  },
  {
   "cell_type": "markdown",
   "metadata": {},
   "source": [
    "Plotting after z-scale transformation"
   ]
  },
  {
   "cell_type": "code",
   "execution_count": 50,
   "metadata": {},
   "outputs": [
    {
     "data": {
      "text/plain": [
       "(<matplotlib.axes._subplots.AxesSubplot at 0x221598eaa20>,\n",
       " <matplotlib.axes._subplots.AxesSubplot at 0x221598eaa20>,\n",
       " <matplotlib.axes._subplots.AxesSubplot at 0x221598eaa20>,\n",
       " <matplotlib.axes._subplots.AxesSubplot at 0x221598eaa20>)"
      ]
     },
     "execution_count": 50,
     "metadata": {},
     "output_type": "execute_result"
    },
    {
     "data": {
      "image/png": "[encoded data removed]",
      "text/plain": [
       "<Figure size 432x288 with 1 Axes>"
      ]
     },
     "metadata": {},
     "output_type": "display_data"
    }
   ],
   "source": [
    "data_copy['z_Rooms'].plot(), data_copy['z_crime_C_average'].plot(), data_copy['z_travel_min_to_CBD'].plot(), data_copy['z_Age'].plot()"
   ]
  },
  {
   "cell_type": "markdown",
   "metadata": {},
   "source": [
    "Creating linear model with scaled values"
   ]
  },
  {
   "cell_type": "code",
   "execution_count": 51,
   "metadata": {},
   "outputs": [
    {
     "name": "stdout",
     "output_type": "stream",
     "text": [
      "R2 score -  0.3109669509187565\n",
      "MSE -  432720237336.2831\n"
     ]
    }
   ],
   "source": [
    "x_train, x_test, y_train, y_test = train_test_split(data_copy[['z_Rooms', 'z_crime_C_average', 'z_travel_min_to_CBD','z_Age']],\n",
    "                                                    data_copy.Price,test_size=0.2,\n",
    "                                                    random_state=111)\n",
    "z_model = LinearRegression()\n",
    "z_model.fit(x_train, y_train)\n",
    "y_pred = z_model.predict(x_test)\n",
    "print(\"R2 score - \",z_model.score(x_test, y_test))\n",
    "print(\"MSE - \",mean_squared_error(y_pred, y_test))"
   ]
  },
  {
   "cell_type": "markdown",
   "metadata": {},
   "source": [
    "### MinMax normalization"
   ]
  },
  {
   "cell_type": "code",
   "execution_count": 52,
   "metadata": {},
   "outputs": [],
   "source": [
    "# using minmax normalization\n",
    "minmax_scaler = preprocessing.MinMaxScaler().fit(data_copy[['Price']])\n",
    "df_mm = minmax_scaler.transform(data_copy[['Rooms','crime_C_average','travel_min_to_CBD','Age']])\n",
    "data_copy['mm_Rooms']=df_mm[:,0]\n",
    "data_copy['mm_crime_C_average']=df_mm[:,1]\n",
    "data_copy['mm_travel_min_to_CBD']=df_mm[:,2]\n",
    "data_copy['mm_Age']=df_mm[:,3]"
   ]
  },
  {
   "cell_type": "markdown",
   "metadata": {},
   "source": [
    "Model with Minmax normalized predictors"
   ]
  },
  {
   "cell_type": "code",
   "execution_count": 53,
   "metadata": {},
   "outputs": [
    {
     "name": "stdout",
     "output_type": "stream",
     "text": [
      "R2 score -  0.42943882155156027\n",
      "MSE -  432720237336.2831\n"
     ]
    }
   ],
   "source": [
    "x_train, x_test, y_train, y_test = train_test_split(data_copy[['mm_Rooms', 'mm_crime_C_average', 'mm_travel_min_to_CBD','mm_Age']],\n",
    "                                                    data_copy.Price,test_size=0.2,\n",
    "                                                    random_state=111)\n",
    "mm_model = LinearRegression()\n",
    "mm_model.fit(x_train, y_train)\n",
    "mm_pred = z_model.predict(x_test)\n",
    "print(\"R2 score - \",mm_model.score(x_test, y_test))\n",
    "print(\"MSE - \",mean_squared_error(y_pred, y_test))"
   ]
  },
  {
   "cell_type": "markdown",
   "metadata": {},
   "source": [
    "Plotting values after MinMax normalization"
   ]
  },
  {
   "cell_type": "code",
   "execution_count": 54,
   "metadata": {},
   "outputs": [
    {
     "data": {
      "text/plain": [
       "(<matplotlib.axes._subplots.AxesSubplot at 0x22159bc0a90>,\n",
       " <matplotlib.axes._subplots.AxesSubplot at 0x22159bc0a90>,\n",
       " <matplotlib.axes._subplots.AxesSubplot at 0x22159bc0a90>,\n",
       " <matplotlib.axes._subplots.AxesSubplot at 0x22159bc0a90>)"
      ]
     },
     "execution_count": 54,
     "metadata": {},
     "output_type": "execute_result"
    },
    {
     "data": {
      "image/png": "[encoded data removed]",
      "text/plain": [
       "<Figure size 432x288 with 1 Axes>"
      ]
     },
     "metadata": {},
     "output_type": "display_data"
    }
   ],
   "source": [
    "data_copy['mm_Rooms'].plot(), data_copy['mm_crime_C_average'].plot(), data_copy['mm_travel_min_to_CBD'].plot(), data_copy['mm_Age'].plot()"
   ]
  },
  {
   "cell_type": "markdown",
   "metadata": {},
   "source": [
    "### Log transformation\n",
    "Transforming predictors into log values"
   ]
  },
  {
   "cell_type": "code",
   "execution_count": 55,
   "metadata": {},
   "outputs": [],
   "source": [
    "# Iterating through all rows and converting to log values for each col\n",
    "for index, row in data_copy.iterrows(): \n",
    "    data_copy.loc[index, 'log_Rooms'] = log(row.Rooms)\n",
    "    data_copy.loc[index, 'log_crime_C_average'] = log(row.crime_C_average)\n",
    "    data_copy.loc[index, 'log_travel_min_to_CBD'] = 0\n",
    "    data_copy.loc[index, 'log_Age'] = log(row.Age)\n",
    "    "
   ]
  },
  {
   "cell_type": "markdown",
   "metadata": {},
   "source": [
    "Model with log transformed values"
   ]
  },
  {
   "cell_type": "code",
   "execution_count": 56,
   "metadata": {},
   "outputs": [
    {
     "name": "stdout",
     "output_type": "stream",
     "text": [
      "R2 score -  0.2823888147622372\n",
      "MSE -  450667617185.1407\n"
     ]
    }
   ],
   "source": [
    "x_train, x_test, y_train, y_test = train_test_split(data_copy[['log_Rooms', 'log_crime_C_average', 'log_travel_min_to_CBD','log_Age']],\n",
    "                                                    data_copy.Price,test_size=0.2,\n",
    "                                                    random_state=111)\n",
    "log_model = LinearRegression()\n",
    "log_model.fit(x_train, y_train)\n",
    "y_pred = log_model.predict(x_test)\n",
    "print(\"R2 score - \",log_model.score(x_test, y_test))\n",
    "print(\"MSE - \",mean_squared_error(y_pred, y_test))"
   ]
  },
  {
   "cell_type": "markdown",
   "metadata": {},
   "source": [
    "Plotting values after transformation"
   ]
  },
  {
   "cell_type": "code",
   "execution_count": 57,
   "metadata": {},
   "outputs": [
    {
     "data": {
      "text/plain": [
       "(<matplotlib.axes._subplots.AxesSubplot at 0x22159a8d6d8>,\n",
       " <matplotlib.axes._subplots.AxesSubplot at 0x22159a8d6d8>,\n",
       " <matplotlib.axes._subplots.AxesSubplot at 0x22159a8d6d8>,\n",
       " <matplotlib.axes._subplots.AxesSubplot at 0x22159a8d6d8>)"
      ]
     },
     "execution_count": 57,
     "metadata": {},
     "output_type": "execute_result"
    },
    {
     "data": {
      "image/png": "[encoded data removed]",
      "text/plain": [
       "<Figure size 432x288 with 1 Axes>"
      ]
     },
     "metadata": {},
     "output_type": "display_data"
    }
   ],
   "source": [
    "data_copy['log_Rooms'].plot(), data_copy['log_crime_C_average'].plot(), data_copy['log_travel_min_to_CBD'].plot(), data_copy['log_Age'].plot()"
   ]
  },
  {
   "cell_type": "markdown",
   "metadata": {},
   "source": [
    "#### Square root transformation\n",
    "Doing a sqroot transformation and creating a linear model"
   ]
  },
  {
   "cell_type": "code",
   "execution_count": 58,
   "metadata": {},
   "outputs": [
    {
     "name": "stdout",
     "output_type": "stream",
     "text": [
      "R2 score -  0.2994513008006737\n",
      "MSE -  367202124101.6304\n"
     ]
    }
   ],
   "source": [
    "for index, row in data_copy.iterrows(): \n",
    "    data_copy.loc[index, 'sqrt_Rooms'] = sqrt(row['Rooms'])\n",
    "    data_copy.loc[index, 'sqrt_crime_C_avg'] = sqrt(row['crime_C_average'])\n",
    "    data_copy.loc[index, 'sqrt_travel_min_to_CBD'] = sqrt(row['travel_min_to_CBD'])\n",
    "    data_copy.loc[index, 'sqrt_Age'] = sqrt(row['Age'])\n",
    "    \n",
    "x_train, x_test, y_train, y_test = train_test_split(data_copy[['sqrt_Rooms', 'sqrt_crime_C_avg', 'sqrt_travel_min_to_CBD','sqrt_Age']],\n",
    "                                                data_copy.Price,test_size=0.2,\n",
    "                                                random_state=1112)\n",
    "sqrt_model = LinearRegression()\n",
    "sqrt_model.fit(x_train, y_train)\n",
    "\n",
    "y_pred_5 = sqrt_model.predict(x_test)\n",
    "\n",
    "print(\"R2 score - \",sqrt_model.score(x_test, y_test))\n",
    "print(\"MSE - \",mean_squared_error(y_pred_5, y_test))"
   ]
  },
  {
   "cell_type": "markdown",
   "metadata": {},
   "source": [
    "Plotting values after transformation"
   ]
  },
  {
   "cell_type": "code",
   "execution_count": 59,
   "metadata": {},
   "outputs": [
    {
     "data": {
      "text/plain": [
       "(<matplotlib.axes._subplots.AxesSubplot at 0x221599fb518>,\n",
       " <matplotlib.axes._subplots.AxesSubplot at 0x221599fb518>,\n",
       " <matplotlib.axes._subplots.AxesSubplot at 0x221599fb518>,\n",
       " <matplotlib.axes._subplots.AxesSubplot at 0x221599fb518>)"
      ]
     },
     "execution_count": 59,
     "metadata": {},
     "output_type": "execute_result"
    },
    {
     "data": {
      "image/png": "[encoded data removed]",
      "text/plain": [
       "<Figure size 432x288 with 1 Axes>"
      ]
     },
     "metadata": {},
     "output_type": "display_data"
    }
   ],
   "source": [
    "data_copy['sqrt_Rooms'].plot(), data_copy['sqrt_crime_C_avg'].plot(), data_copy['sqrt_travel_min_to_CBD'].plot(), data_copy['sqrt_Age'].plot()"
   ]
  },
  {
   "cell_type": "markdown",
   "metadata": {},
   "source": [
    "### Power Transformation\n",
    "Doing a power transformation on predictors and creating predictors. "
   ]
  },
  {
   "cell_type": "code",
   "execution_count": 60,
   "metadata": {},
   "outputs": [
    {
     "name": "stdout",
     "output_type": "stream",
     "text": [
      "R2 score -  0.30378241652842264\n",
      "MSE -  364931910914.7712\n"
     ]
    }
   ],
   "source": [
    "for index, row in data_copy.iterrows(): \n",
    "    data_copy.loc[index, 'sq_Rooms'] = row['Rooms'] **2\n",
    "    data_copy.loc[index, 'sq_crime_C_average'] = row['crime_C_average']**2\n",
    "    data_copy.loc[index, 'sq_travel_min_to_CBD'] = row['travel_min_to_CBD']**2\n",
    "    \n",
    "x_train, x_test, y_train, y_test = train_test_split(data_copy[['sq_Rooms', 'sq_crime_C_average', 'sq_travel_min_to_CBD','Age']],\n",
    "                                                data_copy.Price,test_size=0.2,\n",
    "                                                random_state=1112)\n",
    "sq_model = LinearRegression()\n",
    "sq_model.fit(x_train, y_train)\n",
    "\n",
    "y_pred_6 = sq_model.predict(x_test)\n",
    "\n",
    "print(\"R2 score - \",sq_model.score(x_test, y_test))\n",
    "print(\"MSE - \",mean_squared_error(y_pred_6, y_test))"
   ]
  },
  {
   "cell_type": "markdown",
   "metadata": {},
   "source": [
    "Plotting values after transformation"
   ]
  },
  {
   "cell_type": "code",
   "execution_count": 61,
   "metadata": {},
   "outputs": [
    {
     "data": {
      "text/plain": [
       "(<matplotlib.axes._subplots.AxesSubplot at 0x22159a8c390>,\n",
       " <matplotlib.axes._subplots.AxesSubplot at 0x22159a8c390>,\n",
       " <matplotlib.axes._subplots.AxesSubplot at 0x22159a8c390>,\n",
       " <matplotlib.axes._subplots.AxesSubplot at 0x22159a8c390>)"
      ]
     },
     "execution_count": 61,
     "metadata": {},
     "output_type": "execute_result"
    },
    {
     "data": {
      "image/png": "[encoded data removed]",
      "text/plain": [
       "<Figure size 432x288 with 1 Axes>"
      ]
     },
     "metadata": {},
     "output_type": "display_data"
    }
   ],
   "source": [
    "data_copy['sq_Rooms'].plot(), data_copy['sq_crime_C_average'].plot(), data_copy['sq_travel_min_to_CBD'].plot(), data_copy['Age'].plot()"
   ]
  },
  {
   "cell_type": "markdown",
   "metadata": {},
   "source": [
    "#### Summarizing transformation results for linear model fit\n",
    "From the RMSE values looks like MinMax transformation finds the best predictors values for fitting the model against Price. "
   ]
  },
  {
   "cell_type": "markdown",
   "metadata": {},
   "source": [
    "### References"
   ]
  },
  {
   "cell_type": "markdown",
   "metadata": {},
   "source": [
    "   1. H., Dunn, M., Anderson, J., G, V., Malyutin, S., & kavvuri, p. (2019). Haversine Formula in Python (Bearing and Distance between two GPS points). Retrieved from https://stackoverflow.com/questions/4913349/haversine-formula-in-python-bearing-and-distance-between-two-gps-points\n",
    "   2. Haversine formula. (2019). Retrieved from https://en.wikipedia.org/wiki/Haversine_formula"
   ]
  }
 ],
 "metadata": {
  "kernelspec": {
   "display_name": "Python 3",
   "language": "python",
   "name": "python3"
  },
  "language_info": {
   "codemirror_mode": {
    "name": "ipython",
    "version": 3
   },
   "file_extension": ".py",
   "mimetype": "text/x-python",
   "name": "python",
   "nbconvert_exporter": "python",
   "pygments_lexer": "ipython3",
   "version": "3.6.5"
  }
 },
 "nbformat": 4,
 "nbformat_minor": 2
}
